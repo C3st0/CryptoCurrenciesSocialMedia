{
 "cells": [
  {
   "cell_type": "code",
   "execution_count": 1,
   "metadata": {},
   "outputs": [],
   "source": [
    "import pandas as pd"
   ]
  },
  {
   "cell_type": "code",
   "execution_count": 2,
   "metadata": {},
   "outputs": [],
   "source": [
    "df = pd.read_csv(\"bitcointweets.csv\", encoding='utf-8')"
   ]
  },
  {
   "cell_type": "code",
   "execution_count": 3,
   "metadata": {},
   "outputs": [
    {
     "data": {
      "text/html": [
       "<div>\n",
       "<style scoped>\n",
       "    .dataframe tbody tr th:only-of-type {\n",
       "        vertical-align: middle;\n",
       "    }\n",
       "\n",
       "    .dataframe tbody tr th {\n",
       "        vertical-align: top;\n",
       "    }\n",
       "\n",
       "    .dataframe thead th {\n",
       "        text-align: right;\n",
       "    }\n",
       "</style>\n",
       "<table border=\"1\" class=\"dataframe\">\n",
       "  <thead>\n",
       "    <tr style=\"text-align: right;\">\n",
       "      <th></th>\n",
       "      <th>time</th>\n",
       "      <th>text</th>\n",
       "      <th>name</th>\n",
       "      <th>score</th>\n",
       "      <th>0</th>\n",
       "      <th>[]</th>\n",
       "      <th>link</th>\n",
       "      <th>sentiment</th>\n",
       "    </tr>\n",
       "  </thead>\n",
       "  <tbody>\n",
       "    <tr>\n",
       "      <th>0</th>\n",
       "      <td>Fri Mar 23 00:40:34 +0000 2018</td>\n",
       "      <td>@lopp @_Kevin_Pham @psycho_sage @naval But @Pr...</td>\n",
       "      <td>BitMocro</td>\n",
       "      <td>1295</td>\n",
       "      <td>0</td>\n",
       "      <td>[u'Bitcoin']</td>\n",
       "      <td>&lt;a href=\"http://twitter.com/download/android\" ...</td>\n",
       "      <td>['neutral']</td>\n",
       "    </tr>\n",
       "    <tr>\n",
       "      <th>1</th>\n",
       "      <td>Fri Mar 23 00:40:35 +0000 2018</td>\n",
       "      <td>RT @tippereconomy: Another use case for #block...</td>\n",
       "      <td>hojachotopur</td>\n",
       "      <td>6090</td>\n",
       "      <td>0</td>\n",
       "      <td>[u'blockchain', u'Tipper', u'TipperEconomy']</td>\n",
       "      <td>&lt;a href=\"http://twitter.com\" rel=\"nofollow\"&gt;Tw...</td>\n",
       "      <td>['positive']</td>\n",
       "    </tr>\n",
       "    <tr>\n",
       "      <th>2</th>\n",
       "      <td>Fri Mar 23 00:40:36 +0000 2018</td>\n",
       "      <td>free coins https://t.co/DiuoePJdap</td>\n",
       "      <td>denies_distro</td>\n",
       "      <td>2626</td>\n",
       "      <td>0</td>\n",
       "      <td>[]</td>\n",
       "      <td>&lt;a href=\"http://twitter.com\" rel=\"nofollow\"&gt;Tw...</td>\n",
       "      <td>['positive']</td>\n",
       "    </tr>\n",
       "    <tr>\n",
       "      <th>3</th>\n",
       "      <td>Fri Mar 23 00:40:36 +0000 2018</td>\n",
       "      <td>RT @payvxofficial: WE are happy to announce th...</td>\n",
       "      <td>aditzgraha</td>\n",
       "      <td>184</td>\n",
       "      <td>0</td>\n",
       "      <td>[]</td>\n",
       "      <td>&lt;a href=\"http://twitter.com/download/android\" ...</td>\n",
       "      <td>['positive']</td>\n",
       "    </tr>\n",
       "    <tr>\n",
       "      <th>4</th>\n",
       "      <td>Fri Mar 23 00:40:36 +0000 2018</td>\n",
       "      <td>Copy successful traders automatically with Bit...</td>\n",
       "      <td>VictorS61164810</td>\n",
       "      <td>14</td>\n",
       "      <td>0</td>\n",
       "      <td>[]</td>\n",
       "      <td>&lt;a href=\"http://twitter.com\" rel=\"nofollow\"&gt;Tw...</td>\n",
       "      <td>['positive']</td>\n",
       "    </tr>\n",
       "  </tbody>\n",
       "</table>\n",
       "</div>"
      ],
      "text/plain": [
       "                             time  \\\n",
       "0  Fri Mar 23 00:40:34 +0000 2018   \n",
       "1  Fri Mar 23 00:40:35 +0000 2018   \n",
       "2  Fri Mar 23 00:40:36 +0000 2018   \n",
       "3  Fri Mar 23 00:40:36 +0000 2018   \n",
       "4  Fri Mar 23 00:40:36 +0000 2018   \n",
       "\n",
       "                                                text             name  score  \\\n",
       "0  @lopp @_Kevin_Pham @psycho_sage @naval But @Pr...         BitMocro   1295   \n",
       "1  RT @tippereconomy: Another use case for #block...     hojachotopur   6090   \n",
       "2                 free coins https://t.co/DiuoePJdap    denies_distro   2626   \n",
       "3  RT @payvxofficial: WE are happy to announce th...       aditzgraha    184   \n",
       "4  Copy successful traders automatically with Bit...  VictorS61164810     14   \n",
       "\n",
       "   0                                            []  \\\n",
       "0  0                                  [u'Bitcoin']   \n",
       "1  0  [u'blockchain', u'Tipper', u'TipperEconomy']   \n",
       "2  0                                            []   \n",
       "3  0                                            []   \n",
       "4  0                                            []   \n",
       "\n",
       "                                                link     sentiment  \n",
       "0  <a href=\"http://twitter.com/download/android\" ...   ['neutral']  \n",
       "1  <a href=\"http://twitter.com\" rel=\"nofollow\">Tw...  ['positive']  \n",
       "2  <a href=\"http://twitter.com\" rel=\"nofollow\">Tw...  ['positive']  \n",
       "3  <a href=\"http://twitter.com/download/android\" ...  ['positive']  \n",
       "4  <a href=\"http://twitter.com\" rel=\"nofollow\">Tw...  ['positive']  "
      ]
     },
     "execution_count": 3,
     "metadata": {},
     "output_type": "execute_result"
    }
   ],
   "source": [
    "df.head() "
   ]
  },
  {
   "cell_type": "code",
   "execution_count": 4,
   "metadata": {},
   "outputs": [],
   "source": [
    "features = df['text'].values.tolist()\n",
    "scores = df['score'].values.tolist()\n",
    "labels = df['sentiment'].values.tolist()"
   ]
  },
  {
   "cell_type": "code",
   "execution_count": 5,
   "metadata": {},
   "outputs": [],
   "source": [
    "enc_labels = [] \n",
    "\n",
    "for label in labels: #encoding the string labels we have into numbers since RandomForest takes only numbers\n",
    "    if label == \"['neutral']\":\n",
    "        enc_labels.append(0)\n",
    "    elif label == \"['positive']\":\n",
    "        enc_labels.append(1)\n",
    "    else: \n",
    "        enc_labels.append(-1)\n"
   ]
  },
  {
   "cell_type": "code",
   "execution_count": 6,
   "metadata": {},
   "outputs": [],
   "source": [
    "import nltk\n",
    "from nltk.corpus import stopwords\n",
    "from nltk.stem import WordNetLemmatizer\n",
    "\n",
    "stop = set(stopwords.words('english'))\n",
    "\n",
    "x_stwords = []\n",
    "\n",
    "for j in range(len(features)): #removing stopwords for dimensionality reduction\n",
    "    temp = [i for i in features[j].lower().split() if i not in stop]\n",
    "    x_stwords.append(temp)\n",
    "\n",
    "\n",
    "word_net = WordNetLemmatizer() \n",
    "lemmatized = [] #using a lemmatizer for more dimensionality reduction\n",
    "for sent in range(len(x_stwords)):\n",
    "    lemmatized.append([word_net.lemmatize(i) for i in x_stwords[sent]])\n",
    "\n",
    "\n",
    "for i in range(len(lemmatized)): #rejoin the split text\n",
    "    lemmatized[i] = ' '.join(lemmatized[i])"
   ]
  },
  {
   "cell_type": "code",
   "execution_count": 7,
   "metadata": {},
   "outputs": [],
   "source": [
    "from sklearn.feature_extraction.text import CountVectorizer\n",
    "from sklearn.model_selection import train_test_split\n",
    "\n",
    "cv = CountVectorizer()\n",
    "features = cv.fit_transform(lemmatized)"
   ]
  },
  {
   "cell_type": "code",
   "execution_count": 8,
   "metadata": {},
   "outputs": [],
   "source": [
    "x_train, x_test, y_train, y_test = train_test_split(features, enc_labels, test_size=0.2, random_state=42)"
   ]
  },
  {
   "cell_type": "code",
   "execution_count": 10,
   "metadata": {},
   "outputs": [],
   "source": [
    "from sklearn.ensemble import RandomForestClassifier\n",
    "from sklearn.metrics import confusion_matrix"
   ]
  },
  {
   "cell_type": "code",
   "execution_count": 12,
   "metadata": {},
   "outputs": [
    {
     "name": "stdout",
     "output_type": "stream",
     "text": [
      "[[ 988  150   52]\n",
      " [   8 4266   59]\n",
      " [  16  280 4353]]\n",
      "0.9444553676759733\n"
     ]
    }
   ],
   "source": [
    "clf = RandomForestClassifier() #initializing random forest\n",
    "clf.fit(x_train, y_train) # training the classifier\n",
    "score = clf.score(x_test, y_test) #extracting the score\n",
    "predictions = clf.predict(x_test)\n",
    "\n",
    "\n",
    "conf_mat = confusion_matrix(y_test, predictions)\n",
    "print(conf_mat)\n",
    "print(score) #printing the score"
   ]
  },
  {
   "cell_type": "code",
   "execution_count": null,
   "metadata": {},
   "outputs": [],
   "source": []
  }
 ],
 "metadata": {
  "kernelspec": {
   "display_name": "Python 2",
   "language": "python",
   "name": "python2"
  },
  "language_info": {
   "codemirror_mode": {
    "name": "ipython",
    "version": 2
   },
   "file_extension": ".py",
   "mimetype": "text/x-python",
   "name": "python",
   "nbconvert_exporter": "python",
   "pygments_lexer": "ipython2",
   "version": "2.7.15"
  }
 },
 "nbformat": 4,
 "nbformat_minor": 2
}
