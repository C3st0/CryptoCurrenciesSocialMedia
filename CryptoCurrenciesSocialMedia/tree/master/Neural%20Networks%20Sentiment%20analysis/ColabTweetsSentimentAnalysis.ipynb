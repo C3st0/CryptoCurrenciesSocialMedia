{
  "nbformat": 4,
  "nbformat_minor": 0,
  "metadata": {
    "colab": {
      "name": "ColabTweetsSentimentAnalysis.ipynb",
      "version": "0.3.2",
      "provenance": [],
      "collapsed_sections": [
        "qFxdidraY3Ip"
      ],
      "include_colab_link": true
    },
    "kernelspec": {
      "name": "python3",
      "display_name": "Python 3"
    },
    "accelerator": "GPU"
  },
  "cells": [
    {
      "cell_type": "markdown",
      "metadata": {
        "id": "view-in-github",
        "colab_type": "text"
      },
      "source": [
        "<a href=\"https://colab.research.google.com/github/C3st0/CryptoCurrenciesSocialMedia/blob/master/CryptoCurrenciesSocialMedia/tree/master/Neural%2520Networks%2520Sentiment%2520analysis/ColabTweetsSentimentAnalysis.ipynb\" target=\"_parent\"><img src=\"https://colab.research.google.com/assets/colab-badge.svg\" alt=\"Open In Colab\"/></a>"
      ]
    },
    {
      "metadata": {
        "id": "BmGl36LGZL4i",
        "colab_type": "text"
      },
      "cell_type": "markdown",
      "source": [
        "# Convolution Neural Network analysis of Tweets "
      ]
    },
    {
      "metadata": {
        "id": "-Iw8GZ35RuSc",
        "colab_type": "text"
      },
      "cell_type": "markdown",
      "source": [
        "#1 Script inital steps / libraries loading"
      ]
    },
    {
      "metadata": {
        "id": "AEhdwh-ORuSf",
        "colab_type": "code",
        "colab": {}
      },
      "cell_type": "code",
      "source": [
        "import sys"
      ],
      "execution_count": 0,
      "outputs": []
    },
    {
      "metadata": {
        "id": "lpMMEwzjZqLv",
        "colab_type": "code",
        "outputId": "96f004e8-e03d-40fe-a07d-ce5793c50dd2",
        "colab": {
          "base_uri": "https://localhost:8080/",
          "height": 204
        }
      },
      "cell_type": "code",
      "source": [
        "!pip install kaggle"
      ],
      "execution_count": 4,
      "outputs": [
        {
          "output_type": "stream",
          "text": [
            "Requirement already satisfied: kaggle in /usr/local/lib/python3.6/dist-packages (1.5.3)\n",
            "Requirement already satisfied: urllib3<1.25,>=1.21.1 in /usr/local/lib/python3.6/dist-packages (from kaggle) (1.22)\n",
            "Requirement already satisfied: six>=1.10 in /usr/local/lib/python3.6/dist-packages (from kaggle) (1.11.0)\n",
            "Requirement already satisfied: certifi in /usr/local/lib/python3.6/dist-packages (from kaggle) (2019.3.9)\n",
            "Requirement already satisfied: python-dateutil in /usr/local/lib/python3.6/dist-packages (from kaggle) (2.5.3)\n",
            "Requirement already satisfied: requests in /usr/local/lib/python3.6/dist-packages (from kaggle) (2.18.4)\n",
            "Requirement already satisfied: tqdm in /usr/local/lib/python3.6/dist-packages (from kaggle) (4.28.1)\n",
            "Requirement already satisfied: python-slugify in /usr/local/lib/python3.6/dist-packages (from kaggle) (3.0.0)\n",
            "Requirement already satisfied: chardet<3.1.0,>=3.0.2 in /usr/local/lib/python3.6/dist-packages (from requests->kaggle) (3.0.4)\n",
            "Requirement already satisfied: idna<2.7,>=2.5 in /usr/local/lib/python3.6/dist-packages (from requests->kaggle) (2.6)\n",
            "Requirement already satisfied: text-unidecode==1.2 in /usr/local/lib/python3.6/dist-packages (from python-slugify->kaggle) (1.2)\n"
          ],
          "name": "stdout"
        }
      ]
    },
    {
      "metadata": {
        "id": "yb1Kv7NGZwXE",
        "colab_type": "code",
        "colab": {
          "base_uri": "https://localhost:8080/",
          "height": 34
        },
        "outputId": "47fe1484-2198-444f-98a7-ebbc9b1f1213"
      },
      "cell_type": "code",
      "source": [
        "!mkdir .kaggle"
      ],
      "execution_count": 10,
      "outputs": [
        {
          "output_type": "stream",
          "text": [
            "mkdir: cannot create directory ‘.kaggle’: File exists\n"
          ],
          "name": "stdout"
        }
      ]
    },
    {
      "metadata": {
        "id": "kXUxkTYAZ2Ge",
        "colab_type": "code",
        "colab": {}
      },
      "cell_type": "code",
      "source": [
        "import json\n",
        "token = {\"username\":\"datacesto\",\"key\":\"fb05445ad1a13be38cfd5ba865b335c4\"}\n",
        "with open('/content/.kaggle/kaggle.json', 'w') as file:\n",
        "    json.dump(token, file)"
      ],
      "execution_count": 0,
      "outputs": []
    },
    {
      "metadata": {
        "id": "GipqUWm4aetB",
        "colab_type": "code",
        "colab": {}
      },
      "cell_type": "code",
      "source": [
        "!cp /content/.kaggle/kaggle.json ~/.kaggle/kaggle.json"
      ],
      "execution_count": 0,
      "outputs": []
    },
    {
      "metadata": {
        "id": "jemYP4YDafLq",
        "colab_type": "code",
        "colab": {
          "base_uri": "https://localhost:8080/",
          "height": 51
        },
        "outputId": "8aef0023-f6a4-48ff-f425-7275188e4727"
      },
      "cell_type": "code",
      "source": [
        "!kaggle config set -n path -v{/content}"
      ],
      "execution_count": 18,
      "outputs": [
        {
          "output_type": "stream",
          "text": [
            "Warning: Your Kaggle API key is readable by other users on this system! To fix this, you can run 'chmod 600 /root/.kaggle/kaggle.json'\n",
            "- path is now set to: {/content}\n"
          ],
          "name": "stdout"
        }
      ]
    },
    {
      "metadata": {
        "id": "7Ef2eiaacnt3",
        "colab_type": "code",
        "colab": {}
      },
      "cell_type": "code",
      "source": [
        "!chmod 600 /root/.kaggle/kaggle.json"
      ],
      "execution_count": 0,
      "outputs": []
    },
    {
      "metadata": {
        "id": "fTCjrfCmcyQv",
        "colab_type": "code",
        "colab": {
          "base_uri": "https://localhost:8080/",
          "height": 68
        },
        "outputId": "a95cd5de-699a-4014-b796-47002f6cec8e"
      },
      "cell_type": "code",
      "source": [
        "!kaggle datasets download -d skularat/bitcoin-tweets -p /content"
      ],
      "execution_count": 23,
      "outputs": [
        {
          "output_type": "stream",
          "text": [
            "Downloading bitcoin-tweets.zip to /content\n",
            "\r  0% 0.00/3.46M [00:00<?, ?B/s]\n",
            "\r100% 3.46M/3.46M [00:00<00:00, 117MB/s]\n"
          ],
          "name": "stdout"
        }
      ]
    },
    {
      "metadata": {
        "id": "HKVCyoH5dPXb",
        "colab_type": "code",
        "colab": {
          "base_uri": "https://localhost:8080/",
          "height": 51
        },
        "outputId": "39e8e368-77a7-42b2-af24-7d6c2da063dc"
      },
      "cell_type": "code",
      "source": [
        "!unzip \\*.zip"
      ],
      "execution_count": 25,
      "outputs": [
        {
          "output_type": "stream",
          "text": [
            "Archive:  bitcoin-tweets.zip\n",
            "  inflating: bitcointweets.csv       \n"
          ],
          "name": "stdout"
        }
      ]
    },
    {
      "metadata": {
        "id": "9NICbUJJRuSk",
        "colab_type": "code",
        "colab": {}
      },
      "cell_type": "code",
      "source": [
        "import numpy as np\n",
        "import pandas as pd\n",
        "import matplotlib.pyplot as plt\n",
        "import seaborn as sns\n",
        "from sklearn.preprocessing import OneHotEncoder\n",
        "from sklearn.preprocessing import LabelEncoder\n",
        "%matplotlib inline"
      ],
      "execution_count": 0,
      "outputs": []
    },
    {
      "metadata": {
        "id": "oMpnPiRcRuSo",
        "colab_type": "code",
        "colab": {}
      },
      "cell_type": "code",
      "source": [
        "import warnings\n",
        "warnings.filterwarnings(\"ignore\")"
      ],
      "execution_count": 0,
      "outputs": []
    },
    {
      "metadata": {
        "id": "8qTjSdKbRuSs",
        "colab_type": "code",
        "outputId": "b60637b0-9d71-4738-efbd-a5f4e9f383c9",
        "colab": {
          "base_uri": "https://localhost:8080/",
          "height": 204
        }
      },
      "cell_type": "code",
      "source": [
        "# Load Data\n",
        "df = pd.read_csv('bitcointweets.csv', header=None)\n",
        "pd.set_option('display.max_colwidth', -1)\n",
        "df = df[[1,7]]\n",
        "df.columns = ['tweet','label']\n",
        "df.head()"
      ],
      "execution_count": 28,
      "outputs": [
        {
          "output_type": "execute_result",
          "data": {
            "text/html": [
              "<div>\n",
              "<style scoped>\n",
              "    .dataframe tbody tr th:only-of-type {\n",
              "        vertical-align: middle;\n",
              "    }\n",
              "\n",
              "    .dataframe tbody tr th {\n",
              "        vertical-align: top;\n",
              "    }\n",
              "\n",
              "    .dataframe thead th {\n",
              "        text-align: right;\n",
              "    }\n",
              "</style>\n",
              "<table border=\"1\" class=\"dataframe\">\n",
              "  <thead>\n",
              "    <tr style=\"text-align: right;\">\n",
              "      <th></th>\n",
              "      <th>tweet</th>\n",
              "      <th>label</th>\n",
              "    </tr>\n",
              "  </thead>\n",
              "  <tbody>\n",
              "    <tr>\n",
              "      <th>0</th>\n",
              "      <td>RT @ALXTOKEN: Paul Krugman, Nobel Luddite. I had to tweak the nose of this Bitcoin enemy. He says such foolish things. Here's the link: htt…</td>\n",
              "      <td>['neutral']</td>\n",
              "    </tr>\n",
              "    <tr>\n",
              "      <th>1</th>\n",
              "      <td>@lopp @_Kevin_Pham @psycho_sage @naval But @ProfFaustus (dum b a ss) said you know nothing about #Bitcoin ... 😂😂😂 https://t.co/SBAMFQ2Yiy</td>\n",
              "      <td>['neutral']</td>\n",
              "    </tr>\n",
              "    <tr>\n",
              "      <th>2</th>\n",
              "      <td>RT @tippereconomy: Another use case for #blockchain and #Tipper. The #TipperEconomy  can unseat Facebook and change everything! ICO Live No…</td>\n",
              "      <td>['positive']</td>\n",
              "    </tr>\n",
              "    <tr>\n",
              "      <th>3</th>\n",
              "      <td>free coins https://t.co/DiuoePJdap</td>\n",
              "      <td>['positive']</td>\n",
              "    </tr>\n",
              "    <tr>\n",
              "      <th>4</th>\n",
              "      <td>RT @payvxofficial: WE are happy to announce that PayVX Presale Phase 1 is now LIVE!\\n\\nSign up --&amp;gt;&amp;gt; https://t.co/dhprzsSxek\\nCurrencies accept…</td>\n",
              "      <td>['positive']</td>\n",
              "    </tr>\n",
              "  </tbody>\n",
              "</table>\n",
              "</div>"
            ],
            "text/plain": [
              "                                                                                                                                                   tweet  \\\n",
              "0  RT @ALXTOKEN: Paul Krugman, Nobel Luddite. I had to tweak the nose of this Bitcoin enemy. He says such foolish things. Here's the link: htt…            \n",
              "1  @lopp @_Kevin_Pham @psycho_sage @naval But @ProfFaustus (dum b a ss) said you know nothing about #Bitcoin ... 😂😂😂 https://t.co/SBAMFQ2Yiy               \n",
              "2  RT @tippereconomy: Another use case for #blockchain and #Tipper. The #TipperEconomy  can unseat Facebook and change everything! ICO Live No…            \n",
              "3  free coins https://t.co/DiuoePJdap                                                                                                                      \n",
              "4  RT @payvxofficial: WE are happy to announce that PayVX Presale Phase 1 is now LIVE!\\n\\nSign up --&gt;&gt; https://t.co/dhprzsSxek\\nCurrencies accept…   \n",
              "\n",
              "          label  \n",
              "0  ['neutral']   \n",
              "1  ['neutral']   \n",
              "2  ['positive']  \n",
              "3  ['positive']  \n",
              "4  ['positive']  "
            ]
          },
          "metadata": {
            "tags": []
          },
          "execution_count": 28
        }
      ]
    },
    {
      "metadata": {
        "id": "h6W-_IGaRuSz",
        "colab_type": "code",
        "outputId": "08558cd9-f37a-4ef4-f45b-739e89da3837",
        "colab": {
          "base_uri": "https://localhost:8080/",
          "height": 204
        }
      },
      "cell_type": "code",
      "source": [
        "df.tail()"
      ],
      "execution_count": 29,
      "outputs": [
        {
          "output_type": "execute_result",
          "data": {
            "text/html": [
              "<div>\n",
              "<style scoped>\n",
              "    .dataframe tbody tr th:only-of-type {\n",
              "        vertical-align: middle;\n",
              "    }\n",
              "\n",
              "    .dataframe tbody tr th {\n",
              "        vertical-align: top;\n",
              "    }\n",
              "\n",
              "    .dataframe thead th {\n",
              "        text-align: right;\n",
              "    }\n",
              "</style>\n",
              "<table border=\"1\" class=\"dataframe\">\n",
              "  <thead>\n",
              "    <tr style=\"text-align: right;\">\n",
              "      <th></th>\n",
              "      <th>tweet</th>\n",
              "      <th>label</th>\n",
              "    </tr>\n",
              "  </thead>\n",
              "  <tbody>\n",
              "    <tr>\n",
              "      <th>50854</th>\n",
              "      <td>RT @fixy_app: Fixy Network brings popular cryptocurrencies and retailers as partners with benefits from blockchain. Partner Stores will acc…</td>\n",
              "      <td>['positive']</td>\n",
              "    </tr>\n",
              "    <tr>\n",
              "      <th>50855</th>\n",
              "      <td>RT @bethereumteam: After a successful launch of our Bounty campaign, we've managed to filter out the Bounty related questions to: https://t…</td>\n",
              "      <td>['positive']</td>\n",
              "    </tr>\n",
              "    <tr>\n",
              "      <th>50856</th>\n",
              "      <td>RT @GymRewards: Buy #GYMRewards Tokens, Bonus Time is ending! https://t.co/HDvhoZrz2J, #ICO #cryptocurrency #mobile #app #mining #exercisin…</td>\n",
              "      <td>['neutral']</td>\n",
              "    </tr>\n",
              "    <tr>\n",
              "      <th>50857</th>\n",
              "      <td>I added a video to a @YouTube playlist https://t.co/ntFJrNvSvZ How To Bitcoin Cloud Mining Free For Lifetime Urdu / Hindi</td>\n",
              "      <td>['positive']</td>\n",
              "    </tr>\n",
              "    <tr>\n",
              "      <th>50858</th>\n",
              "      <td>RT @Raybambs: Airdrop PhotoCoin Airdrop Round#2. 100 #PhotoCoin will be giving to everyone who complete the google form. Your account will…</td>\n",
              "      <td>['positive']</td>\n",
              "    </tr>\n",
              "  </tbody>\n",
              "</table>\n",
              "</div>"
            ],
            "text/plain": [
              "                                                                                                                                              tweet  \\\n",
              "50854  RT @fixy_app: Fixy Network brings popular cryptocurrencies and retailers as partners with benefits from blockchain. Partner Stores will acc…   \n",
              "50855  RT @bethereumteam: After a successful launch of our Bounty campaign, we've managed to filter out the Bounty related questions to: https://t…   \n",
              "50856  RT @GymRewards: Buy #GYMRewards Tokens, Bonus Time is ending! https://t.co/HDvhoZrz2J, #ICO #cryptocurrency #mobile #app #mining #exercisin…   \n",
              "50857  I added a video to a @YouTube playlist https://t.co/ntFJrNvSvZ How To Bitcoin Cloud Mining Free For Lifetime Urdu / Hindi                      \n",
              "50858  RT @Raybambs: Airdrop PhotoCoin Airdrop Round#2. 100 #PhotoCoin will be giving to everyone who complete the google form. Your account will…    \n",
              "\n",
              "              label  \n",
              "50854  ['positive']  \n",
              "50855  ['positive']  \n",
              "50856  ['neutral']   \n",
              "50857  ['positive']  \n",
              "50858  ['positive']  "
            ]
          },
          "metadata": {
            "tags": []
          },
          "execution_count": 29
        }
      ]
    },
    {
      "metadata": {
        "id": "-NoAR81dRuS4",
        "colab_type": "code",
        "outputId": "d78be4e3-17b8-4737-9952-7d7ffce6f99c",
        "colab": {
          "base_uri": "https://localhost:8080/",
          "height": 136
        }
      },
      "cell_type": "code",
      "source": [
        "df.info()"
      ],
      "execution_count": 30,
      "outputs": [
        {
          "output_type": "stream",
          "text": [
            "<class 'pandas.core.frame.DataFrame'>\n",
            "RangeIndex: 50859 entries, 0 to 50858\n",
            "Data columns (total 2 columns):\n",
            "tweet    50859 non-null object\n",
            "label    50859 non-null object\n",
            "dtypes: object(2)\n",
            "memory usage: 794.8+ KB\n"
          ],
          "name": "stdout"
        }
      ]
    },
    {
      "metadata": {
        "id": "8wqUOHlfRuTB",
        "colab_type": "code",
        "outputId": "f50af61f-a660-479d-a7e1-ee38d45e71ed",
        "colab": {
          "base_uri": "https://localhost:8080/",
          "height": 296
        }
      },
      "cell_type": "code",
      "source": [
        "# inspect sentiment\n",
        "sns.countplot(df['label'])"
      ],
      "execution_count": 31,
      "outputs": [
        {
          "output_type": "execute_result",
          "data": {
            "text/plain": [
              "<matplotlib.axes._subplots.AxesSubplot at 0x7f8f1693cd30>"
            ]
          },
          "metadata": {
            "tags": []
          },
          "execution_count": 31
        },
        {
          "output_type": "display_data",
          "data": {
            "image/png": "[encoded data removed]",
            "text/plain": [
              "<Figure size 432x288 with 1 Axes>"
            ]
          },
          "metadata": {
            "tags": []
          }
        }
      ]
    },
    {
      "metadata": {
        "id": "nDura8KHRuTH",
        "colab_type": "code",
        "outputId": "279420e4-50a6-4fd1-e055-8228023bca08",
        "colab": {
          "base_uri": "https://localhost:8080/",
          "height": 204
        }
      },
      "cell_type": "code",
      "source": [
        "# text length\n",
        "df['text_length'] = df['tweet'].apply(len)\n",
        "df[['label','text_length','tweet']].head()"
      ],
      "execution_count": 32,
      "outputs": [
        {
          "output_type": "execute_result",
          "data": {
            "text/html": [
              "<div>\n",
              "<style scoped>\n",
              "    .dataframe tbody tr th:only-of-type {\n",
              "        vertical-align: middle;\n",
              "    }\n",
              "\n",
              "    .dataframe tbody tr th {\n",
              "        vertical-align: top;\n",
              "    }\n",
              "\n",
              "    .dataframe thead th {\n",
              "        text-align: right;\n",
              "    }\n",
              "</style>\n",
              "<table border=\"1\" class=\"dataframe\">\n",
              "  <thead>\n",
              "    <tr style=\"text-align: right;\">\n",
              "      <th></th>\n",
              "      <th>label</th>\n",
              "      <th>text_length</th>\n",
              "      <th>tweet</th>\n",
              "    </tr>\n",
              "  </thead>\n",
              "  <tbody>\n",
              "    <tr>\n",
              "      <th>0</th>\n",
              "      <td>['neutral']</td>\n",
              "      <td>140</td>\n",
              "      <td>RT @ALXTOKEN: Paul Krugman, Nobel Luddite. I had to tweak the nose of this Bitcoin enemy. He says such foolish things. Here's the link: htt…</td>\n",
              "    </tr>\n",
              "    <tr>\n",
              "      <th>1</th>\n",
              "      <td>['neutral']</td>\n",
              "      <td>137</td>\n",
              "      <td>@lopp @_Kevin_Pham @psycho_sage @naval But @ProfFaustus (dum b a ss) said you know nothing about #Bitcoin ... 😂😂😂 https://t.co/SBAMFQ2Yiy</td>\n",
              "    </tr>\n",
              "    <tr>\n",
              "      <th>2</th>\n",
              "      <td>['positive']</td>\n",
              "      <td>140</td>\n",
              "      <td>RT @tippereconomy: Another use case for #blockchain and #Tipper. The #TipperEconomy  can unseat Facebook and change everything! ICO Live No…</td>\n",
              "    </tr>\n",
              "    <tr>\n",
              "      <th>3</th>\n",
              "      <td>['positive']</td>\n",
              "      <td>34</td>\n",
              "      <td>free coins https://t.co/DiuoePJdap</td>\n",
              "    </tr>\n",
              "    <tr>\n",
              "      <th>4</th>\n",
              "      <td>['positive']</td>\n",
              "      <td>146</td>\n",
              "      <td>RT @payvxofficial: WE are happy to announce that PayVX Presale Phase 1 is now LIVE!\\n\\nSign up --&amp;gt;&amp;gt; https://t.co/dhprzsSxek\\nCurrencies accept…</td>\n",
              "    </tr>\n",
              "  </tbody>\n",
              "</table>\n",
              "</div>"
            ],
            "text/plain": [
              "          label  text_length  \\\n",
              "0  ['neutral']   140           \n",
              "1  ['neutral']   137           \n",
              "2  ['positive']  140           \n",
              "3  ['positive']  34            \n",
              "4  ['positive']  146           \n",
              "\n",
              "                                                                                                                                                   tweet  \n",
              "0  RT @ALXTOKEN: Paul Krugman, Nobel Luddite. I had to tweak the nose of this Bitcoin enemy. He says such foolish things. Here's the link: htt…           \n",
              "1  @lopp @_Kevin_Pham @psycho_sage @naval But @ProfFaustus (dum b a ss) said you know nothing about #Bitcoin ... 😂😂😂 https://t.co/SBAMFQ2Yiy              \n",
              "2  RT @tippereconomy: Another use case for #blockchain and #Tipper. The #TipperEconomy  can unseat Facebook and change everything! ICO Live No…           \n",
              "3  free coins https://t.co/DiuoePJdap                                                                                                                     \n",
              "4  RT @payvxofficial: WE are happy to announce that PayVX Presale Phase 1 is now LIVE!\\n\\nSign up --&gt;&gt; https://t.co/dhprzsSxek\\nCurrencies accept…  "
            ]
          },
          "metadata": {
            "tags": []
          },
          "execution_count": 32
        }
      ]
    },
    {
      "metadata": {
        "id": "QZvrA0M7RuTM",
        "colab_type": "code",
        "outputId": "a54fb0fb-ab9b-4b48-cc6f-b2a47819960b",
        "colab": {
          "base_uri": "https://localhost:8080/",
          "height": 170
        }
      },
      "cell_type": "code",
      "source": [
        "df['text_length'].describe()"
      ],
      "execution_count": 33,
      "outputs": [
        {
          "output_type": "execute_result",
          "data": {
            "text/plain": [
              "count    50859.000000\n",
              "mean     127.650072  \n",
              "std      23.595770   \n",
              "min      7.000000    \n",
              "25%      126.000000  \n",
              "50%      140.000000  \n",
              "75%      140.000000  \n",
              "max      166.000000  \n",
              "Name: text_length, dtype: float64"
            ]
          },
          "metadata": {
            "tags": []
          },
          "execution_count": 33
        }
      ]
    },
    {
      "metadata": {
        "id": "9PqT00PjRuTS",
        "colab_type": "code",
        "outputId": "7a39019a-4195-4c03-e966-cfe1bfdda356",
        "colab": {
          "base_uri": "https://localhost:8080/",
          "height": 282
        }
      },
      "cell_type": "code",
      "source": [
        "df['text_length'].hist(bins=50)"
      ],
      "execution_count": 34,
      "outputs": [
        {
          "output_type": "execute_result",
          "data": {
            "text/plain": [
              "<matplotlib.axes._subplots.AxesSubplot at 0x7f8f16945518>"
            ]
          },
          "metadata": {
            "tags": []
          },
          "execution_count": 34
        },
        {
          "output_type": "display_data",
          "data": {
            "image/png": "[encoded data removed]",
            "text/plain": [
              "<Figure size 432x288 with 1 Axes>"
            ]
          },
          "metadata": {
            "tags": []
          }
        }
      ]
    },
    {
      "metadata": {
        "id": "I_DDUaeDRuTW",
        "colab_type": "code",
        "outputId": "ab51e2c6-64be-4d67-8973-6f007243fd6b",
        "colab": {
          "base_uri": "https://localhost:8080/",
          "height": 242
        }
      },
      "cell_type": "code",
      "source": [
        "g = sns.FacetGrid(df,col='label')\n",
        "g.map(plt.hist,'text_length')"
      ],
      "execution_count": 35,
      "outputs": [
        {
          "output_type": "execute_result",
          "data": {
            "text/plain": [
              "<seaborn.axisgrid.FacetGrid at 0x7f8f16900908>"
            ]
          },
          "metadata": {
            "tags": []
          },
          "execution_count": 35
        },
        {
          "output_type": "display_data",
          "data": {
            "image/png": "[encoded data removed]",
            "text/plain": [
              "<Figure size 648x216 with 3 Axes>"
            ]
          },
          "metadata": {
            "tags": []
          }
        }
      ]
    },
    {
      "metadata": {
        "id": "BvndcPx_RuTb",
        "colab_type": "code",
        "outputId": "9c8790ab-7325-4fd3-f0b5-b70459b7e0ca",
        "colab": {
          "base_uri": "https://localhost:8080/",
          "height": 420
        }
      },
      "cell_type": "code",
      "source": [
        "# word cloud\n",
        "import nltk\n",
        "nltk.download(\"stopwords\")\n",
        "from nltk.corpus import stopwords\n",
        "from wordcloud import WordCloud\n",
        "import re\n",
        "\n",
        "def clean_text(s):\n",
        "    s = re.sub(r'http\\S+', '', s)\n",
        "    s = re.sub('(RT|via)((?:\\\\b\\\\W*@\\\\w+)+)', ' ', s)\n",
        "    s = re.sub(r'@\\S+', '', s)\n",
        "    s = re.sub('&amp', ' ', s)\n",
        "    return s\n",
        "df['clean_tweet'] = df['tweet'].apply(clean_text)\n",
        "\n",
        "text = df['clean_tweet'].to_string().lower()    \n",
        "wordcloud = WordCloud(\n",
        "    collocations=False,\n",
        "    relative_scaling=0.5,\n",
        "    stopwords=set(stopwords.words('english'))).generate(text)\n",
        "\n",
        "plt.figure(figsize=(12,12))\n",
        "plt.imshow(wordcloud)\n",
        "plt.axis(\"off\")\n",
        "plt.show()"
      ],
      "execution_count": 36,
      "outputs": [
        {
          "output_type": "stream",
          "text": [
            "[nltk_data] Downloading package stopwords to /root/nltk_data...\n",
            "[nltk_data]   Unzipping corpora/stopwords.zip.\n"
          ],
          "name": "stdout"
        },
        {
          "output_type": "display_data",
          "data": {
            "image/png": "[encoded data removed]",
            "text/plain": [
              "<Figure size 864x864 with 1 Axes>"
            ]
          },
          "metadata": {
            "tags": []
          }
        }
      ]
    },
    {
      "metadata": {
        "id": "S4jnew3ARuTg",
        "colab_type": "code",
        "colab": {}
      },
      "cell_type": "code",
      "source": [
        "seed = 101 # fix random seed for reproducibility\n",
        "np.random.seed(seed)"
      ],
      "execution_count": 0,
      "outputs": []
    },
    {
      "metadata": {
        "id": "lzRts6PiRuTk",
        "colab_type": "code",
        "outputId": "46b6e3ba-1ef5-4c4a-e9eb-ae1ee24e0352",
        "colab": {
          "base_uri": "https://localhost:8080/",
          "height": 119
        }
      },
      "cell_type": "code",
      "source": [
        "print(type(df))\n",
        "df[\"tweet\"].describe()"
      ],
      "execution_count": 38,
      "outputs": [
        {
          "output_type": "stream",
          "text": [
            "<class 'pandas.core.frame.DataFrame'>\n"
          ],
          "name": "stdout"
        },
        {
          "output_type": "execute_result",
          "data": {
            "text/plain": [
              "count     50859                                                                                                                                       \n",
              "unique    28136                                                                                                                                       \n",
              "top       RT @GymRewards: https://t.co/Bm9sIxiiwU  Checkout our #bitcointalk #ANN https://t.co/J5xnJJr7Sa … #Gymrewards #tokenssale #ethereum #bitcoi…\n",
              "freq      672                                                                                                                                         \n",
              "Name: tweet, dtype: object"
            ]
          },
          "metadata": {
            "tags": []
          },
          "execution_count": 38
        }
      ]
    },
    {
      "metadata": {
        "id": "WJWcAjVMRuTq",
        "colab_type": "code",
        "outputId": "8544e5b8-f575-46a4-96c6-067d09138107",
        "colab": {
          "base_uri": "https://localhost:8080/",
          "height": 119
        }
      },
      "cell_type": "code",
      "source": [
        "df.tweet.head()"
      ],
      "execution_count": 39,
      "outputs": [
        {
          "output_type": "execute_result",
          "data": {
            "text/plain": [
              "0    RT @ALXTOKEN: Paul Krugman, Nobel Luddite. I had to tweak the nose of this Bitcoin enemy. He says such foolish things. Here's the link: htt…         \n",
              "1    @lopp @_Kevin_Pham @psycho_sage @naval But @ProfFaustus (dum b a ss) said you know nothing about #Bitcoin ... 😂😂😂 https://t.co/SBAMFQ2Yiy            \n",
              "2    RT @tippereconomy: Another use case for #blockchain and #Tipper. The #TipperEconomy  can unseat Facebook and change everything! ICO Live No…         \n",
              "3    free coins https://t.co/DiuoePJdap                                                                                                                   \n",
              "4    RT @payvxofficial: WE are happy to announce that PayVX Presale Phase 1 is now LIVE!\\n\\nSign up --&gt;&gt; https://t.co/dhprzsSxek\\nCurrencies accept…\n",
              "Name: tweet, dtype: object"
            ]
          },
          "metadata": {
            "tags": []
          },
          "execution_count": 39
        }
      ]
    },
    {
      "metadata": {
        "id": "R4C4ssfHRuTw",
        "colab_type": "code",
        "outputId": "762face2-b1b5-445c-98c6-288626bb12f2",
        "colab": {
          "base_uri": "https://localhost:8080/",
          "height": 119
        }
      },
      "cell_type": "code",
      "source": [
        "df.label.head()"
      ],
      "execution_count": 40,
      "outputs": [
        {
          "output_type": "execute_result",
          "data": {
            "text/plain": [
              "0    ['neutral'] \n",
              "1    ['neutral'] \n",
              "2    ['positive']\n",
              "3    ['positive']\n",
              "4    ['positive']\n",
              "Name: label, dtype: object"
            ]
          },
          "metadata": {
            "tags": []
          },
          "execution_count": 40
        }
      ]
    },
    {
      "metadata": {
        "id": "xGh-l1O6RuT4",
        "colab_type": "code",
        "outputId": "fe13b265-d9bf-4c0b-f77f-14e799ad474c",
        "colab": {
          "base_uri": "https://localhost:8080/",
          "height": 34
        }
      },
      "cell_type": "code",
      "source": [
        "# Split Train Test sets\n",
        "import tensorflow\n",
        "from sklearn.model_selection import train_test_split\n",
        "X = df[\"tweet\"]\n",
        "y = df[\"label\"]\n",
        "\n",
        "# integer encode\n",
        "label_encoder = LabelEncoder()\n",
        "integer_encoded = label_encoder.fit_transform(y)\n",
        "onehot_encoder = OneHotEncoder(sparse=False)\n",
        "integer_encoded = integer_encoded.reshape(len(integer_encoded), 1)\n",
        "y = onehot_encoder.fit_transform(integer_encoded)\n",
        "\n",
        "X_train, X_test, y_train, y_test = train_test_split(X, y, \n",
        "                                                    test_size=0.2,\n",
        "                                                    stratify=y,\n",
        "                                                    random_state=seed)\n",
        "\n",
        "print(X_train.shape, X_test.shape, y_train.shape, y_test.shape)"
      ],
      "execution_count": 41,
      "outputs": [
        {
          "output_type": "stream",
          "text": [
            "(40687,) (10172,) (40687, 3) (10172, 3)\n"
          ],
          "name": "stdout"
        }
      ]
    },
    {
      "metadata": {
        "id": "OSGroo1fRuUB",
        "colab_type": "code",
        "outputId": "f3bc5a5d-ea6f-48da-8225-7100a0fcaaed",
        "colab": {
          "base_uri": "https://localhost:8080/",
          "height": 34
        }
      },
      "cell_type": "code",
      "source": [
        "# Tokenize Text\n",
        "from keras.preprocessing.text import Tokenizer\n",
        "max_features = 20000\n",
        "tokenizer = Tokenizer(num_words=max_features)\n",
        "tokenizer.fit_on_texts(list(X_train))\n",
        "X_train = tokenizer.texts_to_sequences(X_train)\n",
        "X_test = tokenizer.texts_to_sequences(X_test)"
      ],
      "execution_count": 42,
      "outputs": [
        {
          "output_type": "stream",
          "text": [
            "Using TensorFlow backend.\n"
          ],
          "name": "stderr"
        }
      ]
    },
    {
      "metadata": {
        "id": "5oRcWCIHRuUF",
        "colab_type": "code",
        "outputId": "e48bb5b7-4aef-4393-a1e1-4748317c1918",
        "colab": {
          "base_uri": "https://localhost:8080/",
          "height": 266
        }
      },
      "cell_type": "code",
      "source": [
        "totalNumWords = [len(one_comment) for one_comment in X_train]\n",
        "plt.hist(totalNumWords,bins = 30)\n",
        "plt.show()"
      ],
      "execution_count": 43,
      "outputs": [
        {
          "output_type": "display_data",
          "data": {
            "image/png": "[encoded data removed]",
            "text/plain": [
              "<Figure size 432x288 with 1 Axes>"
            ]
          },
          "metadata": {
            "tags": []
          }
        }
      ]
    },
    {
      "metadata": {
        "id": "-90EW-qqRuUL",
        "colab_type": "code",
        "outputId": "9623c1b0-a613-454a-ee59-2bd5a33d8927",
        "colab": {
          "base_uri": "https://localhost:8080/",
          "height": 68
        }
      },
      "cell_type": "code",
      "source": [
        "from keras.preprocessing import sequence\n",
        "max_words = 30\n",
        "X_train = sequence.pad_sequences(X_train, maxlen=max_words)\n",
        "X_test = sequence.pad_sequences(X_test, maxlen=max_words)\n",
        "print(X_train.shape,X_test.shape)\n",
        "print(X_train.shape, X_test.shape, y_train.shape, y_test.shape)\n",
        "print(X_train.shape[1])"
      ],
      "execution_count": 44,
      "outputs": [
        {
          "output_type": "stream",
          "text": [
            "(40687, 30) (10172, 30)\n",
            "(40687, 30) (10172, 30) (40687, 3) (10172, 3)\n",
            "30\n"
          ],
          "name": "stdout"
        }
      ]
    },
    {
      "metadata": {
        "id": "5G42z9Q_RuUQ",
        "colab_type": "code",
        "colab": {}
      },
      "cell_type": "code",
      "source": [
        "import keras.backend as K\n",
        "from keras.models import Sequential\n",
        "from keras.layers import Dense,Embedding,Conv1D,MaxPooling1D,LSTM\n",
        "from sklearn.metrics import accuracy_score,confusion_matrix,classification_report\n",
        "\n",
        "batch_size = 128\n",
        "epochs = 5"
      ],
      "execution_count": 0,
      "outputs": []
    },
    {
      "metadata": {
        "id": "5QJx2EcnRuUT",
        "colab_type": "code",
        "colab": {}
      },
      "cell_type": "code",
      "source": [
        "def get_model(max_features, embed_dim):\n",
        "    np.random.seed(seed)\n",
        "    K.clear_session()\n",
        "    model = Sequential()\n",
        "    model.add(Embedding(max_features, embed_dim, input_length=X_train.shape[1]))\n",
        "    model.add(Conv1D(filters=32, kernel_size=3, padding='same', activation='relu'))\n",
        "    model.add(MaxPooling1D(pool_size=2))\n",
        "    model.add(Conv1D(filters=32, kernel_size=3, padding='same', activation='relu'))\n",
        "    model.add(MaxPooling1D(pool_size=2))    \n",
        "    model.add(LSTM(100, dropout=0.2, recurrent_dropout=0.2))\n",
        "    model.add(Dense(num_classes, activation='softmax'))\n",
        "    model.compile(loss='categorical_crossentropy', optimizer='adam', metrics=['accuracy'])\n",
        "    print(model.summary())\n",
        "    return model\n"
      ],
      "execution_count": 0,
      "outputs": []
    },
    {
      "metadata": {
        "id": "rFnagLLaRuUW",
        "colab_type": "code",
        "colab": {}
      },
      "cell_type": "code",
      "source": [
        "def model_train(model):\n",
        "    # train the model\n",
        "    model_history = model.fit(X_train, y_train, validation_data=(X_test, y_test), \n",
        "                          epochs=epochs, batch_size=batch_size, verbose=2)\n",
        "    # plot train history\n",
        "    plot_model_history(model_history)"
      ],
      "execution_count": 0,
      "outputs": []
    },
    {
      "metadata": {
        "id": "sSQwbvfwRuUa",
        "colab_type": "code",
        "colab": {}
      },
      "cell_type": "code",
      "source": [
        "def plot_model_history(model_history):\n",
        "    fig, axs = plt.subplots(1,2,figsize=(15,5))\n",
        "    # summarize history for accuracy\n",
        "    axs[0].plot(range(1,len(model_history.history['acc'])+1),model_history.history['acc'])\n",
        "    axs[0].plot(range(1,len(model_history.history['val_acc'])+1),model_history.history['val_acc'])\n",
        "    axs[0].set_title('Model Accuracy')\n",
        "    axs[0].set_ylabel('Accuracy')\n",
        "    axs[0].set_xlabel('Epoch')\n",
        "    axs[0].set_xticks(np.arange(1,len(model_history.history['acc'])+1),len(model_history.history['acc'])/10)\n",
        "    axs[0].legend(['train', 'val'], loc='best')\n",
        "    # summarize history for loss\n",
        "    axs[1].plot(range(1,len(model_history.history['loss'])+1),model_history.history['loss'])\n",
        "    axs[1].plot(range(1,len(model_history.history['val_loss'])+1),model_history.history['val_loss'])\n",
        "    axs[1].set_title('Model Loss')\n",
        "    axs[1].set_ylabel('Loss')\n",
        "    axs[1].set_xlabel('Epoch')\n",
        "    axs[1].set_xticks(np.arange(1,len(model_history.history['loss'])+1),len(model_history.history['loss'])/10)\n",
        "    axs[1].legend(['train', 'val'], loc='best')\n",
        "    plt.show()"
      ],
      "execution_count": 0,
      "outputs": []
    },
    {
      "metadata": {
        "id": "ayAGHI7yRuUe",
        "colab_type": "code",
        "colab": {}
      },
      "cell_type": "code",
      "source": [
        "def model_evaluate(): \n",
        "    # predict class with test set\n",
        "    y_pred_test =  model.predict_classes(X_test, batch_size=batch_size, verbose=0)\n",
        "    print('Accuracy:\\t{:0.1f}%'.format(accuracy_score(np.argmax(y_test,axis=1),y_pred_test)*100))\n",
        "    \n",
        "    #classification report\n",
        "    print('\\n')\n",
        "    print(classification_report(np.argmax(y_test,axis=1), y_pred_test))\n",
        "\n",
        "    #confusion matrix\n",
        "    confmat = confusion_matrix(np.argmax(y_test,axis=1), y_pred_test)\n",
        "\n",
        "    fig, ax = plt.subplots(figsize=(4, 4))\n",
        "    ax.matshow(confmat, cmap=plt.cm.Blues, alpha=0.3)\n",
        "    for i in range(confmat.shape[0]):\n",
        "        for j in range(confmat.shape[1]):\n",
        "            ax.text(x=j, y=i, s=confmat[i, j], va='center', ha='center')\n",
        "    plt.xlabel('Predicted label')\n",
        "    plt.ylabel('True label')\n",
        "    plt.tight_layout()"
      ],
      "execution_count": 0,
      "outputs": []
    },
    {
      "metadata": {
        "id": "7b4RQTT5RuUi",
        "colab_type": "code",
        "outputId": "9b7f743e-56f2-4004-dcde-a40d023c4325",
        "colab": {
          "base_uri": "https://localhost:8080/",
          "height": 1083
        }
      },
      "cell_type": "code",
      "source": [
        "# train the model\n",
        "max_features = 20000\n",
        "num_classes = 3\n",
        "embed_dim = 100\n",
        "model = get_model(max_features, embed_dim)\n",
        "model_train(model)"
      ],
      "execution_count": 50,
      "outputs": [
        {
          "output_type": "stream",
          "text": [
            "WARNING:tensorflow:From /usr/local/lib/python3.6/dist-packages/tensorflow/python/framework/op_def_library.py:263: colocate_with (from tensorflow.python.framework.ops) is deprecated and will be removed in a future version.\n",
            "Instructions for updating:\n",
            "Colocations handled automatically by placer.\n",
            "WARNING:tensorflow:From /usr/local/lib/python3.6/dist-packages/keras/backend/tensorflow_backend.py:3445: calling dropout (from tensorflow.python.ops.nn_ops) with keep_prob is deprecated and will be removed in a future version.\n",
            "Instructions for updating:\n",
            "Please use `rate` instead of `keep_prob`. Rate should be set to `rate = 1 - keep_prob`.\n",
            "_________________________________________________________________\n",
            "Layer (type)                 Output Shape              Param #   \n",
            "=================================================================\n",
            "embedding_1 (Embedding)      (None, 30, 100)           2000000   \n",
            "_________________________________________________________________\n",
            "conv1d_1 (Conv1D)            (None, 30, 32)            9632      \n",
            "_________________________________________________________________\n",
            "max_pooling1d_1 (MaxPooling1 (None, 15, 32)            0         \n",
            "_________________________________________________________________\n",
            "conv1d_2 (Conv1D)            (None, 15, 32)            3104      \n",
            "_________________________________________________________________\n",
            "max_pooling1d_2 (MaxPooling1 (None, 7, 32)             0         \n",
            "_________________________________________________________________\n",
            "lstm_1 (LSTM)                (None, 100)               53200     \n",
            "_________________________________________________________________\n",
            "dense_1 (Dense)              (None, 3)                 303       \n",
            "=================================================================\n",
            "Total params: 2,066,239\n",
            "Trainable params: 2,066,239\n",
            "Non-trainable params: 0\n",
            "_________________________________________________________________\n",
            "None\n",
            "WARNING:tensorflow:From /usr/local/lib/python3.6/dist-packages/tensorflow/python/ops/math_ops.py:3066: to_int32 (from tensorflow.python.ops.math_ops) is deprecated and will be removed in a future version.\n",
            "Instructions for updating:\n",
            "Use tf.cast instead.\n",
            "Train on 40687 samples, validate on 10172 samples\n",
            "Epoch 1/5\n",
            " - 16s - loss: 0.3241 - acc: 0.8692 - val_loss: 0.1031 - val_acc: 0.9691\n",
            "Epoch 2/5\n",
            " - 10s - loss: 0.0553 - acc: 0.9839 - val_loss: 0.0869 - val_acc: 0.9731\n",
            "Epoch 3/5\n",
            " - 10s - loss: 0.0234 - acc: 0.9933 - val_loss: 0.1094 - val_acc: 0.9718\n",
            "Epoch 4/5\n",
            " - 10s - loss: 0.0127 - acc: 0.9965 - val_loss: 0.1109 - val_acc: 0.9752\n",
            "Epoch 5/5\n",
            " - 10s - loss: 0.0078 - acc: 0.9978 - val_loss: 0.1229 - val_acc: 0.9761\n"
          ],
          "name": "stdout"
        },
        {
          "output_type": "display_data",
          "data": {
            "image/png": "[encoded data removed]",
            "text/plain": [
              "<Figure size 1080x360 with 2 Axes>"
            ]
          },
          "metadata": {
            "tags": []
          }
        }
      ]
    },
    {
      "metadata": {
        "scrolled": true,
        "id": "jsuupvd0RuUn",
        "colab_type": "code",
        "outputId": "20131876-afc2-4b39-eea6-b9b9553d2c06",
        "colab": {
          "base_uri": "https://localhost:8080/",
          "height": 518
        }
      },
      "cell_type": "code",
      "source": [
        "# evaluate model with test set\n",
        "model_evaluate()"
      ],
      "execution_count": 51,
      "outputs": [
        {
          "output_type": "stream",
          "text": [
            "Accuracy:\t97.6%\n",
            "\n",
            "\n",
            "              precision    recall  f1-score   support\n",
            "\n",
            "           0       0.96      0.93      0.94      1197\n",
            "           1       0.97      0.98      0.98      4388\n",
            "           2       0.98      0.98      0.98      4587\n",
            "\n",
            "   micro avg       0.98      0.98      0.98     10172\n",
            "   macro avg       0.97      0.96      0.97     10172\n",
            "weighted avg       0.98      0.98      0.98     10172\n",
            "\n"
          ],
          "name": "stdout"
        },
        {
          "output_type": "display_data",
          "data": {
            "image/png": "[encoded data removed]",
            "text/plain": [
              "<Figure size 288x288 with 1 Axes>"
            ]
          },
          "metadata": {
            "tags": []
          }
        }
      ]
    },
    {
      "metadata": {
        "id": "Kd1HCe7XRuUs",
        "colab_type": "code",
        "colab": {}
      },
      "cell_type": "code",
      "source": [
        "y_pred_test =  model.predict_classes(X_test, batch_size=batch_size, verbose=0)"
      ],
      "execution_count": 0,
      "outputs": []
    },
    {
      "metadata": {
        "id": "jHcN8xRdRuUu",
        "colab_type": "code",
        "outputId": "12b396a8-e5e8-4d56-9ff0-c94db801de36",
        "colab": {}
      },
      "cell_type": "code",
      "source": [
        "#Load new tweets to be predicted\n",
        "df = pd.read_csv('BitcoinTweetsFiltered.csv', encoding='utf-16')\n",
        "df.head()"
      ],
      "execution_count": 0,
      "outputs": [
        {
          "output_type": "execute_result",
          "data": {
            "text/html": [
              "<div>\n",
              "<style scoped>\n",
              "    .dataframe tbody tr th:only-of-type {\n",
              "        vertical-align: middle;\n",
              "    }\n",
              "\n",
              "    .dataframe tbody tr th {\n",
              "        vertical-align: top;\n",
              "    }\n",
              "\n",
              "    .dataframe thead th {\n",
              "        text-align: right;\n",
              "    }\n",
              "</style>\n",
              "<table border=\"1\" class=\"dataframe\">\n",
              "  <thead>\n",
              "    <tr style=\"text-align: right;\">\n",
              "      <th></th>\n",
              "      <th>Unnamed: 0</th>\n",
              "      <th>Created_at</th>\n",
              "      <th>Text</th>\n",
              "      <th>Lang</th>\n",
              "    </tr>\n",
              "  </thead>\n",
              "  <tbody>\n",
              "    <tr>\n",
              "      <th>0</th>\n",
              "      <td>0</td>\n",
              "      <td>Mon Oct 01 06:29:17 +0000 2018</td>\n",
              "      <td>Australian government develops decentralized blockchain that records 40,000 tx/second, can the country see rapid cr… https://t.co/Or5FqkmCW1</td>\n",
              "      <td>en</td>\n",
              "    </tr>\n",
              "    <tr>\n",
              "      <th>1</th>\n",
              "      <td>2</td>\n",
              "      <td>Mon Oct 01 06:30:10 +0000 2018</td>\n",
              "      <td>https://t.co/Esl6lG8SMS 💯 Does Website Speed Affect Seo?\\r\\n#RankBio #Insights #Moz #GoogleRank #WebPage… https://t.co/mBmGQwG1Ri</td>\n",
              "      <td>en</td>\n",
              "    </tr>\n",
              "    <tr>\n",
              "      <th>2</th>\n",
              "      <td>4</td>\n",
              "      <td>Mon Oct 01 06:31:14 +0000 2018</td>\n",
              "      <td>RT @YourootNews: Early 2018, TreeBlock's Founder participated a private event of the tech research community about the future technologies…</td>\n",
              "      <td>en</td>\n",
              "    </tr>\n",
              "    <tr>\n",
              "      <th>3</th>\n",
              "      <td>5</td>\n",
              "      <td>Mon Oct 01 06:31:16 +0000 2018</td>\n",
              "      <td>Binance gives free money through airdrops! Join today\\r\\n\\r\\nClick here: https://t.co/rMTJwRkvcw   \\r\\n\\r\\n$BTC $ETH $OMG $LSK… https://t.co/uQrpZyCclK</td>\n",
              "      <td>en</td>\n",
              "    </tr>\n",
              "    <tr>\n",
              "      <th>4</th>\n",
              "      <td>6</td>\n",
              "      <td>Mon Oct 01 06:31:18 +0000 2018</td>\n",
              "      <td>RT @ServAdvisor: Another good review of ServAdvisor project: \\r\\nhttps://t.co/ZAiJoOyzs0\\r\\n\\r\\n#cryptonews #cryptocurrency #blockchain #ICO #Crypto…</td>\n",
              "      <td>en</td>\n",
              "    </tr>\n",
              "  </tbody>\n",
              "</table>\n",
              "</div>"
            ],
            "text/plain": [
              "   Unnamed: 0                      Created_at  \\\n",
              "0  0           Mon Oct 01 06:29:17 +0000 2018   \n",
              "1  2           Mon Oct 01 06:30:10 +0000 2018   \n",
              "2  4           Mon Oct 01 06:31:14 +0000 2018   \n",
              "3  5           Mon Oct 01 06:31:16 +0000 2018   \n",
              "4  6           Mon Oct 01 06:31:18 +0000 2018   \n",
              "\n",
              "                                                                                                                                                      Text  \\\n",
              "0  Australian government develops decentralized blockchain that records 40,000 tx/second, can the country see rapid cr… https://t.co/Or5FqkmCW1              \n",
              "1  https://t.co/Esl6lG8SMS 💯 Does Website Speed Affect Seo?\\r\\n#RankBio #Insights #Moz #GoogleRank #WebPage… https://t.co/mBmGQwG1Ri                         \n",
              "2  RT @YourootNews: Early 2018, TreeBlock's Founder participated a private event of the tech research community about the future technologies…               \n",
              "3  Binance gives free money through airdrops! Join today\\r\\n\\r\\nClick here: https://t.co/rMTJwRkvcw   \\r\\n\\r\\n$BTC $ETH $OMG $LSK… https://t.co/uQrpZyCclK   \n",
              "4  RT @ServAdvisor: Another good review of ServAdvisor project: \\r\\nhttps://t.co/ZAiJoOyzs0\\r\\n\\r\\n#cryptonews #cryptocurrency #blockchain #ICO #Crypto…     \n",
              "\n",
              "  Lang  \n",
              "0  en   \n",
              "1  en   \n",
              "2  en   \n",
              "3  en   \n",
              "4  en   "
            ]
          },
          "metadata": {
            "tags": []
          },
          "execution_count": 38
        }
      ]
    },
    {
      "metadata": {
        "id": "AoSiWnlpRuUz",
        "colab_type": "code",
        "colab": {}
      },
      "cell_type": "code",
      "source": [
        "X_new = df[\"Text\"]  \n",
        "#Turn tweets into vectors\n",
        "X_new = tokenizer.texts_to_sequences(X_new)\n",
        "X_new = sequence.pad_sequences(X_new, maxlen=max_words)"
      ],
      "execution_count": 0,
      "outputs": []
    },
    {
      "metadata": {
        "id": "GKO-FJUkRuU2",
        "colab_type": "code",
        "colab": {}
      },
      "cell_type": "code",
      "source": [
        "y_pred_label =  model.predict_classes(X_new, batch_size=batch_size, verbose=0)"
      ],
      "execution_count": 0,
      "outputs": []
    },
    {
      "metadata": {
        "id": "ek6tPG-URuU5",
        "colab_type": "code",
        "colab": {}
      },
      "cell_type": "code",
      "source": [
        "df['label'] = y_pred_label"
      ],
      "execution_count": 0,
      "outputs": []
    },
    {
      "metadata": {
        "id": "HrYL5CTwRuU7",
        "colab_type": "code",
        "outputId": "99051b07-8501-49bf-d0b0-54428051dbd2",
        "colab": {}
      },
      "cell_type": "code",
      "source": [
        "df.head()"
      ],
      "execution_count": 0,
      "outputs": [
        {
          "output_type": "execute_result",
          "data": {
            "text/html": [
              "<div>\n",
              "<style scoped>\n",
              "    .dataframe tbody tr th:only-of-type {\n",
              "        vertical-align: middle;\n",
              "    }\n",
              "\n",
              "    .dataframe tbody tr th {\n",
              "        vertical-align: top;\n",
              "    }\n",
              "\n",
              "    .dataframe thead th {\n",
              "        text-align: right;\n",
              "    }\n",
              "</style>\n",
              "<table border=\"1\" class=\"dataframe\">\n",
              "  <thead>\n",
              "    <tr style=\"text-align: right;\">\n",
              "      <th></th>\n",
              "      <th>Unnamed: 0</th>\n",
              "      <th>Created_at</th>\n",
              "      <th>Text</th>\n",
              "      <th>Lang</th>\n",
              "      <th>label</th>\n",
              "    </tr>\n",
              "  </thead>\n",
              "  <tbody>\n",
              "    <tr>\n",
              "      <th>0</th>\n",
              "      <td>0</td>\n",
              "      <td>Mon Oct 01 06:29:17 +0000 2018</td>\n",
              "      <td>Australian government develops decentralized blockchain that records 40,000 tx/second, can the country see rapid cr… https://t.co/Or5FqkmCW1</td>\n",
              "      <td>en</td>\n",
              "      <td>1</td>\n",
              "    </tr>\n",
              "    <tr>\n",
              "      <th>1</th>\n",
              "      <td>2</td>\n",
              "      <td>Mon Oct 01 06:30:10 +0000 2018</td>\n",
              "      <td>https://t.co/Esl6lG8SMS 💯 Does Website Speed Affect Seo?\\r\\n#RankBio #Insights #Moz #GoogleRank #WebPage… https://t.co/mBmGQwG1Ri</td>\n",
              "      <td>en</td>\n",
              "      <td>1</td>\n",
              "    </tr>\n",
              "    <tr>\n",
              "      <th>2</th>\n",
              "      <td>4</td>\n",
              "      <td>Mon Oct 01 06:31:14 +0000 2018</td>\n",
              "      <td>RT @YourootNews: Early 2018, TreeBlock's Founder participated a private event of the tech research community about the future technologies…</td>\n",
              "      <td>en</td>\n",
              "      <td>2</td>\n",
              "    </tr>\n",
              "    <tr>\n",
              "      <th>3</th>\n",
              "      <td>5</td>\n",
              "      <td>Mon Oct 01 06:31:16 +0000 2018</td>\n",
              "      <td>Binance gives free money through airdrops! Join today\\r\\n\\r\\nClick here: https://t.co/rMTJwRkvcw   \\r\\n\\r\\n$BTC $ETH $OMG $LSK… https://t.co/uQrpZyCclK</td>\n",
              "      <td>en</td>\n",
              "      <td>2</td>\n",
              "    </tr>\n",
              "    <tr>\n",
              "      <th>4</th>\n",
              "      <td>6</td>\n",
              "      <td>Mon Oct 01 06:31:18 +0000 2018</td>\n",
              "      <td>RT @ServAdvisor: Another good review of ServAdvisor project: \\r\\nhttps://t.co/ZAiJoOyzs0\\r\\n\\r\\n#cryptonews #cryptocurrency #blockchain #ICO #Crypto…</td>\n",
              "      <td>en</td>\n",
              "      <td>2</td>\n",
              "    </tr>\n",
              "  </tbody>\n",
              "</table>\n",
              "</div>"
            ],
            "text/plain": [
              "   Unnamed: 0                      Created_at  \\\n",
              "0  0           Mon Oct 01 06:29:17 +0000 2018   \n",
              "1  2           Mon Oct 01 06:30:10 +0000 2018   \n",
              "2  4           Mon Oct 01 06:31:14 +0000 2018   \n",
              "3  5           Mon Oct 01 06:31:16 +0000 2018   \n",
              "4  6           Mon Oct 01 06:31:18 +0000 2018   \n",
              "\n",
              "                                                                                                                                                      Text  \\\n",
              "0  Australian government develops decentralized blockchain that records 40,000 tx/second, can the country see rapid cr… https://t.co/Or5FqkmCW1              \n",
              "1  https://t.co/Esl6lG8SMS 💯 Does Website Speed Affect Seo?\\r\\n#RankBio #Insights #Moz #GoogleRank #WebPage… https://t.co/mBmGQwG1Ri                         \n",
              "2  RT @YourootNews: Early 2018, TreeBlock's Founder participated a private event of the tech research community about the future technologies…               \n",
              "3  Binance gives free money through airdrops! Join today\\r\\n\\r\\nClick here: https://t.co/rMTJwRkvcw   \\r\\n\\r\\n$BTC $ETH $OMG $LSK… https://t.co/uQrpZyCclK   \n",
              "4  RT @ServAdvisor: Another good review of ServAdvisor project: \\r\\nhttps://t.co/ZAiJoOyzs0\\r\\n\\r\\n#cryptonews #cryptocurrency #blockchain #ICO #Crypto…     \n",
              "\n",
              "  Lang  label  \n",
              "0  en   1      \n",
              "1  en   1      \n",
              "2  en   2      \n",
              "3  en   2      \n",
              "4  en   2      "
            ]
          },
          "metadata": {
            "tags": []
          },
          "execution_count": 47
        }
      ]
    },
    {
      "metadata": {
        "id": "i6VzrVNDRuVB",
        "colab_type": "code",
        "outputId": "206f6a62-898c-44fa-f961-5168e4ad0f3d",
        "colab": {}
      },
      "cell_type": "code",
      "source": [
        "df.info()"
      ],
      "execution_count": 0,
      "outputs": [
        {
          "output_type": "stream",
          "text": [
            "<class 'pandas.core.frame.DataFrame'>\n",
            "RangeIndex: 3686 entries, 0 to 3685\n",
            "Data columns (total 5 columns):\n",
            "Unnamed: 0    3686 non-null int64\n",
            "Created_at    3686 non-null object\n",
            "Text          3686 non-null object\n",
            "Lang          3686 non-null object\n",
            "label         3686 non-null int64\n",
            "dtypes: int64(2), object(3)\n",
            "memory usage: 144.1+ KB\n"
          ],
          "name": "stdout"
        }
      ]
    },
    {
      "metadata": {
        "id": "lDwv7bBjRuVG",
        "colab_type": "code",
        "outputId": "a27bb4dd-e025-4dad-f3d4-711c9527dfb0",
        "colab": {}
      },
      "cell_type": "code",
      "source": [
        "# inspect sentiment\n",
        "sns.countplot(df['label'])"
      ],
      "execution_count": 0,
      "outputs": [
        {
          "output_type": "execute_result",
          "data": {
            "text/plain": [
              "<matplotlib.axes._subplots.AxesSubplot at 0x7f1ccfcd4f60>"
            ]
          },
          "metadata": {
            "tags": []
          },
          "execution_count": 54
        },
        {
          "output_type": "display_data",
          "data": {
            "image/png": "[encoded data removed]",
            "text/plain": [
              "<Figure size 432x288 with 1 Axes>"
            ]
          },
          "metadata": {
            "tags": [],
            "needs_background": "light"
          }
        }
      ]
    },
    {
      "metadata": {
        "id": "xmP4yRLnRuVK",
        "colab_type": "code",
        "colab": {}
      },
      "cell_type": "code",
      "source": [
        "df.to_csv(\"NewTweetsLabelled.csv\", encoding='utf-16')"
      ],
      "execution_count": 0,
      "outputs": []
    },
    {
      "metadata": {
        "id": "qFxdidraY3Ip",
        "colab_type": "text"
      },
      "cell_type": "markdown",
      "source": [
        "# Nouvelle section"
      ]
    }
  ]
}