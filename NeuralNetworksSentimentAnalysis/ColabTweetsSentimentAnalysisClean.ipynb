{
  "nbformat": 4,
  "nbformat_minor": 0,
  "metadata": {
    "colab": {
      "name": "ColabTweetsSentimentAnalysis.ipynb",
      "version": "0.3.2",
      "provenance": [],
      "collapsed_sections": [
        "qFxdidraY3Ip"
      ],
      "include_colab_link": true
    },
    "kernelspec": {
      "name": "python3",
      "display_name": "Python 3"
    },
    "accelerator": "GPU"
  },
  "cells": [
    {
      "cell_type": "markdown",
      "metadata": {
        "id": "view-in-github",
        "colab_type": "text"
      },
      "source": [
        "<a href=\"https://colab.research.google.com/github/C3st0/CryptoCurrenciesSocialMedia/blob/master/NeuralNetworksSentimentAnalysis/ColabTweetsSentimentAnalysisClean.ipynb\" target=\"_parent\"><img src=\"https://colab.research.google.com/assets/colab-badge.svg\" alt=\"Open In Colab\"/></a>"
      ]
    },
    {
      "metadata": {
        "id": "BmGl36LGZL4i",
        "colab_type": "text"
      },
      "cell_type": "markdown",
      "source": [
        "# Convolution Neural Network analysis of Tweets "
      ]
    },
    {
      "metadata": {
        "id": "-Iw8GZ35RuSc",
        "colab_type": "text"
      },
      "cell_type": "markdown",
      "source": [
        "#1 Script inital steps / libraries loading"
      ]
    },
    {
      "metadata": {
        "id": "AEhdwh-ORuSf",
        "colab_type": "code",
        "colab": {}
      },
      "cell_type": "code",
      "source": [
        "import sys"
      ],
      "execution_count": 0,
      "outputs": []
    },
    {
      "metadata": {
        "id": "lpMMEwzjZqLv",
        "colab_type": "code",
        "outputId": "b566af97-0f9c-4868-d7d4-cd7cdc29b0dc",
        "colab": {
          "base_uri": "https://localhost:8080/",
          "height": 204
        }
      },
      "cell_type": "code",
      "source": [
        "!pip install kaggle"
      ],
      "execution_count": 2,
      "outputs": [
        {
          "output_type": "stream",
          "text": [
            "Requirement already satisfied: kaggle in /usr/local/lib/python3.6/dist-packages (1.5.3)\n",
            "Requirement already satisfied: urllib3<1.25,>=1.21.1 in /usr/local/lib/python3.6/dist-packages (from kaggle) (1.22)\n",
            "Requirement already satisfied: six>=1.10 in /usr/local/lib/python3.6/dist-packages (from kaggle) (1.11.0)\n",
            "Requirement already satisfied: certifi in /usr/local/lib/python3.6/dist-packages (from kaggle) (2019.3.9)\n",
            "Requirement already satisfied: python-dateutil in /usr/local/lib/python3.6/dist-packages (from kaggle) (2.5.3)\n",
            "Requirement already satisfied: requests in /usr/local/lib/python3.6/dist-packages (from kaggle) (2.18.4)\n",
            "Requirement already satisfied: tqdm in /usr/local/lib/python3.6/dist-packages (from kaggle) (4.28.1)\n",
            "Requirement already satisfied: python-slugify in /usr/local/lib/python3.6/dist-packages (from kaggle) (3.0.0)\n",
            "Requirement already satisfied: idna<2.7,>=2.5 in /usr/local/lib/python3.6/dist-packages (from requests->kaggle) (2.6)\n",
            "Requirement already satisfied: chardet<3.1.0,>=3.0.2 in /usr/local/lib/python3.6/dist-packages (from requests->kaggle) (3.0.4)\n",
            "Requirement already satisfied: text-unidecode==1.2 in /usr/local/lib/python3.6/dist-packages (from python-slugify->kaggle) (1.2)\n"
          ],
          "name": "stdout"
        }
      ]
    },
    {
      "metadata": {
        "id": "yb1Kv7NGZwXE",
        "colab_type": "code",
        "colab": {
          "base_uri": "https://localhost:8080/",
          "height": 34
        },
        "outputId": "e8c1b506-790d-4770-f411-357940614b79"
      },
      "cell_type": "code",
      "source": [
        "!mkdir .kaggle"
      ],
      "execution_count": 7,
      "outputs": [
        {
          "output_type": "stream",
          "text": [
            "mkdir: cannot create directory ‘.kaggle’: File exists\n"
          ],
          "name": "stdout"
        }
      ]
    },
    {
      "metadata": {
        "id": "kXUxkTYAZ2Ge",
        "colab_type": "code",
        "colab": {}
      },
      "cell_type": "code",
      "source": [
        "import json\n",
        "token = {\"username\":\"datacesto\",\"key\":\"fb05445ad1a13be38cfd5ba865b335c4\"}\n",
        "with open('/content/.kaggle/kaggle.json', 'w') as file:\n",
        "    json.dump(token, file)"
      ],
      "execution_count": 0,
      "outputs": []
    },
    {
      "metadata": {
        "id": "GipqUWm4aetB",
        "colab_type": "code",
        "colab": {}
      },
      "cell_type": "code",
      "source": [
        "!cp /content/.kaggle/kaggle.json ~/.kaggle/kaggle.json"
      ],
      "execution_count": 0,
      "outputs": []
    },
    {
      "metadata": {
        "id": "jemYP4YDafLq",
        "colab_type": "code",
        "outputId": "34f3abb6-4196-4e7d-c727-af718313f551",
        "colab": {
          "base_uri": "https://localhost:8080/",
          "height": 51
        }
      },
      "cell_type": "code",
      "source": [
        "!kaggle config set -n path -v{/content}"
      ],
      "execution_count": 10,
      "outputs": [
        {
          "output_type": "stream",
          "text": [
            "Warning: Your Kaggle API key is readable by other users on this system! To fix this, you can run 'chmod 600 /root/.kaggle/kaggle.json'\n",
            "- path is now set to: {/content}\n"
          ],
          "name": "stdout"
        }
      ]
    },
    {
      "metadata": {
        "id": "7Ef2eiaacnt3",
        "colab_type": "code",
        "colab": {}
      },
      "cell_type": "code",
      "source": [
        "!chmod 600 /root/.kaggle/kaggle.json"
      ],
      "execution_count": 0,
      "outputs": []
    },
    {
      "metadata": {
        "id": "fTCjrfCmcyQv",
        "colab_type": "code",
        "outputId": "38852ee8-bff3-4387-c35f-a2eacdd7400c",
        "colab": {
          "base_uri": "https://localhost:8080/",
          "height": 68
        }
      },
      "cell_type": "code",
      "source": [
        "# !kaggle datasets download -d skularat/bitcoin-tweets -p /content #Original tweets\n",
        "!kaggle datasets download -d datacesto/cleanedbitcointweets  -p /content #Cleaned by project"
      ],
      "execution_count": 12,
      "outputs": [
        {
          "output_type": "stream",
          "text": [
            "Downloading cleanedbitcointweets.zip to /content\n",
            "\r  0% 0.00/1.82M [00:00<?, ?B/s]\n",
            "\r100% 1.82M/1.82M [00:00<00:00, 60.9MB/s]\n"
          ],
          "name": "stdout"
        }
      ]
    },
    {
      "metadata": {
        "id": "HKVCyoH5dPXb",
        "colab_type": "code",
        "outputId": "9d0f800e-1bc6-4488-f038-663469ef691d",
        "colab": {
          "base_uri": "https://localhost:8080/",
          "height": 51
        }
      },
      "cell_type": "code",
      "source": [
        "!unzip \\*.zip"
      ],
      "execution_count": 13,
      "outputs": [
        {
          "output_type": "stream",
          "text": [
            "Archive:  cleanedbitcointweets.zip\n",
            "  inflating: bitcointweetsCleaned.csv  \n"
          ],
          "name": "stdout"
        }
      ]
    },
    {
      "metadata": {
        "id": "9NICbUJJRuSk",
        "colab_type": "code",
        "colab": {}
      },
      "cell_type": "code",
      "source": [
        "import numpy as np\n",
        "import pandas as pd\n",
        "import matplotlib.pyplot as plt\n",
        "import seaborn as sns\n",
        "from sklearn.preprocessing import OneHotEncoder\n",
        "from sklearn.preprocessing import LabelEncoder\n",
        "%matplotlib inline"
      ],
      "execution_count": 0,
      "outputs": []
    },
    {
      "metadata": {
        "id": "oMpnPiRcRuSo",
        "colab_type": "code",
        "colab": {}
      },
      "cell_type": "code",
      "source": [
        "import warnings\n",
        "warnings.filterwarnings(\"ignore\")"
      ],
      "execution_count": 0,
      "outputs": []
    },
    {
      "metadata": {
        "id": "8qTjSdKbRuSs",
        "colab_type": "code",
        "outputId": "6d8c2aea-065f-497c-f367-524869ba2110",
        "colab": {
          "base_uri": "https://localhost:8080/",
          "height": 204
        }
      },
      "cell_type": "code",
      "source": [
        "# Load Data\n",
        "df = pd.read_csv('bitcointweetsCleaned.csv', header=None)\n",
        "pd.set_option('display.max_colwidth', -1)\n",
        "df = df[[1,7]]\n",
        "df.columns = ['tweet','label']\n",
        "df.head()"
      ],
      "execution_count": 18,
      "outputs": [
        {
          "output_type": "execute_result",
          "data": {
            "text/html": [
              "<div>\n",
              "<style scoped>\n",
              "    .dataframe tbody tr th:only-of-type {\n",
              "        vertical-align: middle;\n",
              "    }\n",
              "\n",
              "    .dataframe tbody tr th {\n",
              "        vertical-align: top;\n",
              "    }\n",
              "\n",
              "    .dataframe thead th {\n",
              "        text-align: right;\n",
              "    }\n",
              "</style>\n",
              "<table border=\"1\" class=\"dataframe\">\n",
              "  <thead>\n",
              "    <tr style=\"text-align: right;\">\n",
              "      <th></th>\n",
              "      <th>tweet</th>\n",
              "      <th>label</th>\n",
              "    </tr>\n",
              "  </thead>\n",
              "  <tbody>\n",
              "    <tr>\n",
              "      <th>0</th>\n",
              "      <td>naval dum b s said know nothing</td>\n",
              "      <td>['neutral']</td>\n",
              "    </tr>\n",
              "    <tr>\n",
              "      <th>1</th>\n",
              "      <td>Retweet another use case tipper unseat change everything ico live</td>\n",
              "      <td>['positive']</td>\n",
              "    </tr>\n",
              "    <tr>\n",
              "      <th>2</th>\n",
              "      <td>free coin</td>\n",
              "      <td>['positive']</td>\n",
              "    </tr>\n",
              "    <tr>\n",
              "      <th>3</th>\n",
              "      <td>Retweet happy announce phase 1 live sign currency</td>\n",
              "      <td>['positive']</td>\n",
              "    </tr>\n",
              "    <tr>\n",
              "      <th>4</th>\n",
              "      <td>copy successful trader automatically copy</td>\n",
              "      <td>['positive']</td>\n",
              "    </tr>\n",
              "  </tbody>\n",
              "</table>\n",
              "</div>"
            ],
            "text/plain": [
              "                                                               tweet  \\\n",
              "0  naval dum b s said know nothing                                     \n",
              "1  Retweet another use case tipper unseat change everything ico live   \n",
              "2  free coin                                                           \n",
              "3  Retweet happy announce phase 1 live sign currency                   \n",
              "4  copy successful trader automatically copy                           \n",
              "\n",
              "          label  \n",
              "0  ['neutral']   \n",
              "1  ['positive']  \n",
              "2  ['positive']  \n",
              "3  ['positive']  \n",
              "4  ['positive']  "
            ]
          },
          "metadata": {
            "tags": []
          },
          "execution_count": 18
        }
      ]
    },
    {
      "metadata": {
        "id": "h6W-_IGaRuSz",
        "colab_type": "code",
        "outputId": "08c9595e-a62f-4598-f50c-d85b09d8088e",
        "colab": {
          "base_uri": "https://localhost:8080/",
          "height": 204
        }
      },
      "cell_type": "code",
      "source": [
        "df.tail()"
      ],
      "execution_count": 19,
      "outputs": [
        {
          "output_type": "execute_result",
          "data": {
            "text/html": [
              "<div>\n",
              "<style scoped>\n",
              "    .dataframe tbody tr th:only-of-type {\n",
              "        vertical-align: middle;\n",
              "    }\n",
              "\n",
              "    .dataframe tbody tr th {\n",
              "        vertical-align: top;\n",
              "    }\n",
              "\n",
              "    .dataframe thead th {\n",
              "        text-align: right;\n",
              "    }\n",
              "</style>\n",
              "<table border=\"1\" class=\"dataframe\">\n",
              "  <thead>\n",
              "    <tr style=\"text-align: right;\">\n",
              "      <th></th>\n",
              "      <th>tweet</th>\n",
              "      <th>label</th>\n",
              "    </tr>\n",
              "  </thead>\n",
              "  <tbody>\n",
              "    <tr>\n",
              "      <th>50853</th>\n",
              "      <td>Retweet network brings popular retailer partner benefit partner store</td>\n",
              "      <td>['positive']</td>\n",
              "    </tr>\n",
              "    <tr>\n",
              "      <th>50854</th>\n",
              "      <td>Retweet successful launch bounty campaign managed filter bounty related question</td>\n",
              "      <td>['positive']</td>\n",
              "    </tr>\n",
              "    <tr>\n",
              "      <th>50855</th>\n",
              "      <td>Retweet buy token bonus time ending ico mobile app mining</td>\n",
              "      <td>['neutral']</td>\n",
              "    </tr>\n",
              "    <tr>\n",
              "      <th>50856</th>\n",
              "      <td>added video playlist cloud mining free lifetime urdu hindi</td>\n",
              "      <td>['positive']</td>\n",
              "    </tr>\n",
              "    <tr>\n",
              "      <th>50857</th>\n",
              "      <td>Retweet airdrop airdrop 100 giving everyone complete form account</td>\n",
              "      <td>['positive']</td>\n",
              "    </tr>\n",
              "  </tbody>\n",
              "</table>\n",
              "</div>"
            ],
            "text/plain": [
              "                                                                                  tweet  \\\n",
              "50853  Retweet network brings popular retailer partner benefit partner store              \n",
              "50854  Retweet successful launch bounty campaign managed filter bounty related question   \n",
              "50855  Retweet buy token bonus time ending ico mobile app mining                          \n",
              "50856  added video playlist cloud mining free lifetime urdu hindi                         \n",
              "50857  Retweet airdrop airdrop 100 giving everyone complete form account                  \n",
              "\n",
              "              label  \n",
              "50853  ['positive']  \n",
              "50854  ['positive']  \n",
              "50855  ['neutral']   \n",
              "50856  ['positive']  \n",
              "50857  ['positive']  "
            ]
          },
          "metadata": {
            "tags": []
          },
          "execution_count": 19
        }
      ]
    },
    {
      "metadata": {
        "id": "-NoAR81dRuS4",
        "colab_type": "code",
        "outputId": "4adc4fcb-c5a7-46bf-cc92-046f3d6bf1f6",
        "colab": {
          "base_uri": "https://localhost:8080/",
          "height": 136
        }
      },
      "cell_type": "code",
      "source": [
        "df.info()"
      ],
      "execution_count": 20,
      "outputs": [
        {
          "output_type": "stream",
          "text": [
            "<class 'pandas.core.frame.DataFrame'>\n",
            "RangeIndex: 50858 entries, 0 to 50857\n",
            "Data columns (total 2 columns):\n",
            "tweet    50636 non-null object\n",
            "label    50858 non-null object\n",
            "dtypes: object(2)\n",
            "memory usage: 794.7+ KB\n"
          ],
          "name": "stdout"
        }
      ]
    },
    {
      "metadata": {
        "id": "8wqUOHlfRuTB",
        "colab_type": "code",
        "outputId": "76c28327-065b-431f-d624-37c711a2ee70",
        "colab": {
          "base_uri": "https://localhost:8080/",
          "height": 296
        }
      },
      "cell_type": "code",
      "source": [
        "# inspect sentiment\n",
        "sns.countplot(df['label'])"
      ],
      "execution_count": 21,
      "outputs": [
        {
          "output_type": "execute_result",
          "data": {
            "text/plain": [
              "<matplotlib.axes._subplots.AxesSubplot at 0x7fca311d2dd8>"
            ]
          },
          "metadata": {
            "tags": []
          },
          "execution_count": 21
        },
        {
          "output_type": "display_data",
          "data": {
            "image/png": "[encoded data removed]",
            "text/plain": [
              "<Figure size 432x288 with 1 Axes>"
            ]
          },
          "metadata": {
            "tags": []
          }
        }
      ]
    },
    {
      "metadata": {
        "id": "nDura8KHRuTH",
        "colab_type": "code",
        "outputId": "9a3960bf-7a16-486e-a166-040a101a3d54",
        "colab": {
          "base_uri": "https://localhost:8080/",
          "height": 204
        }
      },
      "cell_type": "code",
      "source": [
        "# text length\n",
        "df[\"tweet\"]=df[\"tweet\"].astype(str)\n",
        "df['text_length'] = df['tweet'].apply(len)\n",
        "df[['label','text_length','tweet']].head()"
      ],
      "execution_count": 23,
      "outputs": [
        {
          "output_type": "execute_result",
          "data": {
            "text/html": [
              "<div>\n",
              "<style scoped>\n",
              "    .dataframe tbody tr th:only-of-type {\n",
              "        vertical-align: middle;\n",
              "    }\n",
              "\n",
              "    .dataframe tbody tr th {\n",
              "        vertical-align: top;\n",
              "    }\n",
              "\n",
              "    .dataframe thead th {\n",
              "        text-align: right;\n",
              "    }\n",
              "</style>\n",
              "<table border=\"1\" class=\"dataframe\">\n",
              "  <thead>\n",
              "    <tr style=\"text-align: right;\">\n",
              "      <th></th>\n",
              "      <th>label</th>\n",
              "      <th>text_length</th>\n",
              "      <th>tweet</th>\n",
              "    </tr>\n",
              "  </thead>\n",
              "  <tbody>\n",
              "    <tr>\n",
              "      <th>0</th>\n",
              "      <td>['neutral']</td>\n",
              "      <td>31</td>\n",
              "      <td>naval dum b s said know nothing</td>\n",
              "    </tr>\n",
              "    <tr>\n",
              "      <th>1</th>\n",
              "      <td>['positive']</td>\n",
              "      <td>65</td>\n",
              "      <td>Retweet another use case tipper unseat change everything ico live</td>\n",
              "    </tr>\n",
              "    <tr>\n",
              "      <th>2</th>\n",
              "      <td>['positive']</td>\n",
              "      <td>9</td>\n",
              "      <td>free coin</td>\n",
              "    </tr>\n",
              "    <tr>\n",
              "      <th>3</th>\n",
              "      <td>['positive']</td>\n",
              "      <td>49</td>\n",
              "      <td>Retweet happy announce phase 1 live sign currency</td>\n",
              "    </tr>\n",
              "    <tr>\n",
              "      <th>4</th>\n",
              "      <td>['positive']</td>\n",
              "      <td>41</td>\n",
              "      <td>copy successful trader automatically copy</td>\n",
              "    </tr>\n",
              "  </tbody>\n",
              "</table>\n",
              "</div>"
            ],
            "text/plain": [
              "          label  text_length  \\\n",
              "0  ['neutral']   31            \n",
              "1  ['positive']  65            \n",
              "2  ['positive']  9             \n",
              "3  ['positive']  49            \n",
              "4  ['positive']  41            \n",
              "\n",
              "                                                               tweet  \n",
              "0  naval dum b s said know nothing                                    \n",
              "1  Retweet another use case tipper unseat change everything ico live  \n",
              "2  free coin                                                          \n",
              "3  Retweet happy announce phase 1 live sign currency                  \n",
              "4  copy successful trader automatically copy                          "
            ]
          },
          "metadata": {
            "tags": []
          },
          "execution_count": 23
        }
      ]
    },
    {
      "metadata": {
        "id": "QZvrA0M7RuTM",
        "colab_type": "code",
        "outputId": "865993cd-6f73-48e8-9093-47b06211d749",
        "colab": {
          "base_uri": "https://localhost:8080/",
          "height": 170
        }
      },
      "cell_type": "code",
      "source": [
        "df['text_length'].describe()"
      ],
      "execution_count": 24,
      "outputs": [
        {
          "output_type": "execute_result",
          "data": {
            "text/plain": [
              "count    50858.000000\n",
              "mean     50.542373   \n",
              "std      21.883167   \n",
              "min      1.000000    \n",
              "25%      35.000000   \n",
              "50%      52.000000   \n",
              "75%      66.000000   \n",
              "max      110.000000  \n",
              "Name: text_length, dtype: float64"
            ]
          },
          "metadata": {
            "tags": []
          },
          "execution_count": 24
        }
      ]
    },
    {
      "metadata": {
        "id": "9PqT00PjRuTS",
        "colab_type": "code",
        "outputId": "6735e8e1-2403-43a0-f031-343e047e375f",
        "colab": {
          "base_uri": "https://localhost:8080/",
          "height": 282
        }
      },
      "cell_type": "code",
      "source": [
        "df['text_length'].hist(bins=50)"
      ],
      "execution_count": 25,
      "outputs": [
        {
          "output_type": "execute_result",
          "data": {
            "text/plain": [
              "<matplotlib.axes._subplots.AxesSubplot at 0x7fca30ffb978>"
            ]
          },
          "metadata": {
            "tags": []
          },
          "execution_count": 25
        },
        {
          "output_type": "display_data",
          "data": {
            "image/png": "[encoded data removed]",
            "text/plain": [
              "<Figure size 432x288 with 1 Axes>"
            ]
          },
          "metadata": {
            "tags": []
          }
        }
      ]
    },
    {
      "metadata": {
        "id": "I_DDUaeDRuTW",
        "colab_type": "code",
        "outputId": "1becae15-abf3-4bdb-c71d-2c2d9d3c70e0",
        "colab": {
          "base_uri": "https://localhost:8080/",
          "height": 242
        }
      },
      "cell_type": "code",
      "source": [
        "g = sns.FacetGrid(df,col='label')\n",
        "g.map(plt.hist,'text_length')"
      ],
      "execution_count": 26,
      "outputs": [
        {
          "output_type": "execute_result",
          "data": {
            "text/plain": [
              "<seaborn.axisgrid.FacetGrid at 0x7fca3283d198>"
            ]
          },
          "metadata": {
            "tags": []
          },
          "execution_count": 26
        },
        {
          "output_type": "display_data",
          "data": {
            "image/png": "[encoded data removed]",
            "text/plain": [
              "<Figure size 648x216 with 3 Axes>"
            ]
          },
          "metadata": {
            "tags": []
          }
        }
      ]
    },
    {
      "metadata": {
        "id": "BvndcPx_RuTb",
        "colab_type": "code",
        "outputId": "76d32513-b1f5-492f-bb95-e3f73680c9a1",
        "colab": {
          "base_uri": "https://localhost:8080/",
          "height": 420
        }
      },
      "cell_type": "code",
      "source": [
        "# word cloud\n",
        "import nltk\n",
        "nltk.download(\"stopwords\")\n",
        "from nltk.corpus import stopwords\n",
        "from wordcloud import WordCloud\n",
        "import re\n",
        "\n",
        "def clean_text(s):\n",
        "    s = re.sub(r'http\\S+', '', s)\n",
        "    s = re.sub('(RT|via)((?:\\\\b\\\\W*@\\\\w+)+)', ' ', s)\n",
        "    s = re.sub(r'@\\S+', '', s)\n",
        "    s = re.sub('&amp', ' ', s)\n",
        "    return s\n",
        "df['clean_tweet'] = df['tweet'].apply(clean_text)\n",
        "\n",
        "text = df['clean_tweet'].to_string().lower()    \n",
        "wordcloud = WordCloud(\n",
        "    collocations=False,\n",
        "    relative_scaling=0.5,\n",
        "    stopwords=set(stopwords.words('english'))).generate(text)\n",
        "\n",
        "plt.figure(figsize=(12,12))\n",
        "plt.imshow(wordcloud)\n",
        "plt.axis(\"off\")\n",
        "plt.show()"
      ],
      "execution_count": 27,
      "outputs": [
        {
          "output_type": "stream",
          "text": [
            "[nltk_data] Downloading package stopwords to /root/nltk_data...\n",
            "[nltk_data]   Unzipping corpora/stopwords.zip.\n"
          ],
          "name": "stdout"
        },
        {
          "output_type": "display_data",
          "data": {
            "image/png": "[encoded data removed]",
            "text/plain": [
              "<Figure size 864x864 with 1 Axes>"
            ]
          },
          "metadata": {
            "tags": []
          }
        }
      ]
    },
    {
      "metadata": {
        "id": "S4jnew3ARuTg",
        "colab_type": "code",
        "colab": {}
      },
      "cell_type": "code",
      "source": [
        "seed = 101 # fix random seed for reproducibility\n",
        "np.random.seed(seed)"
      ],
      "execution_count": 0,
      "outputs": []
    },
    {
      "metadata": {
        "id": "lzRts6PiRuTk",
        "colab_type": "code",
        "outputId": "e7948fd0-259a-4c29-ead3-dbff2c2a4fd6",
        "colab": {
          "base_uri": "https://localhost:8080/",
          "height": 119
        }
      },
      "cell_type": "code",
      "source": [
        "print(type(df))\n",
        "df[\"tweet\"].describe()"
      ],
      "execution_count": 29,
      "outputs": [
        {
          "output_type": "stream",
          "text": [
            "<class 'pandas.core.frame.DataFrame'>\n"
          ],
          "name": "stdout"
        },
        {
          "output_type": "execute_result",
          "data": {
            "text/plain": [
              "count     50858               \n",
              "unique    17765               \n",
              "top       Retweet checkout ann\n",
              "freq      897                 \n",
              "Name: tweet, dtype: object"
            ]
          },
          "metadata": {
            "tags": []
          },
          "execution_count": 29
        }
      ]
    },
    {
      "metadata": {
        "id": "WJWcAjVMRuTq",
        "colab_type": "code",
        "outputId": "15a5de1b-eef0-47a7-f92e-a90eeb45cf1e",
        "colab": {
          "base_uri": "https://localhost:8080/",
          "height": 119
        }
      },
      "cell_type": "code",
      "source": [
        "df.tweet.head()"
      ],
      "execution_count": 30,
      "outputs": [
        {
          "output_type": "execute_result",
          "data": {
            "text/plain": [
              "0    naval dum b s said know nothing                                  \n",
              "1    Retweet another use case tipper unseat change everything ico live\n",
              "2    free coin                                                        \n",
              "3    Retweet happy announce phase 1 live sign currency                \n",
              "4    copy successful trader automatically copy                        \n",
              "Name: tweet, dtype: object"
            ]
          },
          "metadata": {
            "tags": []
          },
          "execution_count": 30
        }
      ]
    },
    {
      "metadata": {
        "id": "R4C4ssfHRuTw",
        "colab_type": "code",
        "outputId": "2abf68bf-621a-4d71-9e20-2d2c2d94fee3",
        "colab": {
          "base_uri": "https://localhost:8080/",
          "height": 119
        }
      },
      "cell_type": "code",
      "source": [
        "df.label.head()"
      ],
      "execution_count": 31,
      "outputs": [
        {
          "output_type": "execute_result",
          "data": {
            "text/plain": [
              "0    ['neutral'] \n",
              "1    ['positive']\n",
              "2    ['positive']\n",
              "3    ['positive']\n",
              "4    ['positive']\n",
              "Name: label, dtype: object"
            ]
          },
          "metadata": {
            "tags": []
          },
          "execution_count": 31
        }
      ]
    },
    {
      "metadata": {
        "id": "xGh-l1O6RuT4",
        "colab_type": "code",
        "outputId": "0d26e7f6-4dd2-463c-b348-76819e8a9a7e",
        "colab": {
          "base_uri": "https://localhost:8080/",
          "height": 34
        }
      },
      "cell_type": "code",
      "source": [
        "# Split Train Test sets\n",
        "import tensorflow\n",
        "from sklearn.model_selection import train_test_split\n",
        "X = df[\"tweet\"]\n",
        "y = df[\"label\"]\n",
        "\n",
        "# integer encode\n",
        "label_encoder = LabelEncoder()\n",
        "integer_encoded = label_encoder.fit_transform(y)\n",
        "onehot_encoder = OneHotEncoder(sparse=False)\n",
        "integer_encoded = integer_encoded.reshape(len(integer_encoded), 1)\n",
        "y = onehot_encoder.fit_transform(integer_encoded)\n",
        "\n",
        "X_train, X_test, y_train, y_test = train_test_split(X, y, \n",
        "                                                    test_size=0.2,\n",
        "                                                    stratify=y,\n",
        "                                                    random_state=seed)\n",
        "\n",
        "print(X_train.shape, X_test.shape, y_train.shape, y_test.shape)"
      ],
      "execution_count": 32,
      "outputs": [
        {
          "output_type": "stream",
          "text": [
            "(40686,) (10172,) (40686, 3) (10172, 3)\n"
          ],
          "name": "stdout"
        }
      ]
    },
    {
      "metadata": {
        "id": "OSGroo1fRuUB",
        "colab_type": "code",
        "outputId": "f2890edd-c832-41b1-ba1d-4bb27b9b1738",
        "colab": {
          "base_uri": "https://localhost:8080/",
          "height": 34
        }
      },
      "cell_type": "code",
      "source": [
        "# Tokenize Text\n",
        "from keras.preprocessing.text import Tokenizer\n",
        "max_features = 20000\n",
        "tokenizer = Tokenizer(num_words=max_features)\n",
        "tokenizer.fit_on_texts(list(X_train))\n",
        "X_train = tokenizer.texts_to_sequences(X_train)\n",
        "X_test = tokenizer.texts_to_sequences(X_test)"
      ],
      "execution_count": 33,
      "outputs": [
        {
          "output_type": "stream",
          "text": [
            "Using TensorFlow backend.\n"
          ],
          "name": "stderr"
        }
      ]
    },
    {
      "metadata": {
        "id": "5oRcWCIHRuUF",
        "colab_type": "code",
        "outputId": "e19e6ac4-1145-45cd-8969-a5996643096a",
        "colab": {
          "base_uri": "https://localhost:8080/",
          "height": 265
        }
      },
      "cell_type": "code",
      "source": [
        "totalNumWords = [len(one_comment) for one_comment in X_train]\n",
        "plt.hist(totalNumWords,bins = 30)\n",
        "plt.show()"
      ],
      "execution_count": 34,
      "outputs": [
        {
          "output_type": "display_data",
          "data": {
            "image/png": "[encoded data removed]",
            "text/plain": [
              "<Figure size 432x288 with 1 Axes>"
            ]
          },
          "metadata": {
            "tags": []
          }
        }
      ]
    },
    {
      "metadata": {
        "id": "-90EW-qqRuUL",
        "colab_type": "code",
        "outputId": "47a1c0c5-44f4-4f26-cb03-d16b6c44916c",
        "colab": {
          "base_uri": "https://localhost:8080/",
          "height": 68
        }
      },
      "cell_type": "code",
      "source": [
        "from keras.preprocessing import sequence\n",
        "max_words = 30\n",
        "X_train = sequence.pad_sequences(X_train, maxlen=max_words)\n",
        "X_test = sequence.pad_sequences(X_test, maxlen=max_words)\n",
        "print(X_train.shape,X_test.shape)\n",
        "print(X_train.shape, X_test.shape, y_train.shape, y_test.shape)\n",
        "print(X_train.shape[1])"
      ],
      "execution_count": 35,
      "outputs": [
        {
          "output_type": "stream",
          "text": [
            "(40686, 30) (10172, 30)\n",
            "(40686, 30) (10172, 30) (40686, 3) (10172, 3)\n",
            "30\n"
          ],
          "name": "stdout"
        }
      ]
    },
    {
      "metadata": {
        "id": "5G42z9Q_RuUQ",
        "colab_type": "code",
        "colab": {}
      },
      "cell_type": "code",
      "source": [
        "import keras.backend as K\n",
        "from keras.models import Sequential\n",
        "from keras.layers import Dense,Embedding,Conv1D,MaxPooling1D,LSTM\n",
        "from sklearn.metrics import accuracy_score,confusion_matrix,classification_report\n",
        "\n",
        "batch_size = 128\n",
        "epochs = 5"
      ],
      "execution_count": 0,
      "outputs": []
    },
    {
      "metadata": {
        "id": "5QJx2EcnRuUT",
        "colab_type": "code",
        "colab": {}
      },
      "cell_type": "code",
      "source": [
        "def get_model(max_features, embed_dim):\n",
        "    np.random.seed(seed)\n",
        "    K.clear_session()\n",
        "    model = Sequential()\n",
        "    model.add(Embedding(max_features, embed_dim, input_length=X_train.shape[1]))\n",
        "    model.add(Conv1D(filters=32, kernel_size=3, padding='same', activation='relu'))\n",
        "    model.add(MaxPooling1D(pool_size=2))\n",
        "    model.add(Conv1D(filters=32, kernel_size=3, padding='same', activation='relu'))\n",
        "    model.add(MaxPooling1D(pool_size=2))    \n",
        "    model.add(LSTM(100, dropout=0.2, recurrent_dropout=0.2))\n",
        "    model.add(Dense(num_classes, activation='softmax'))\n",
        "    model.compile(loss='categorical_crossentropy', optimizer='adam', metrics=['accuracy'])\n",
        "    print(model.summary())\n",
        "    return model\n"
      ],
      "execution_count": 0,
      "outputs": []
    },
    {
      "metadata": {
        "id": "rFnagLLaRuUW",
        "colab_type": "code",
        "colab": {}
      },
      "cell_type": "code",
      "source": [
        "def model_train(model):\n",
        "    # train the model\n",
        "    model_history = model.fit(X_train, y_train, validation_data=(X_test, y_test), \n",
        "                          epochs=epochs, batch_size=batch_size, verbose=2)\n",
        "    # plot train history\n",
        "    plot_model_history(model_history)"
      ],
      "execution_count": 0,
      "outputs": []
    },
    {
      "metadata": {
        "id": "sSQwbvfwRuUa",
        "colab_type": "code",
        "colab": {}
      },
      "cell_type": "code",
      "source": [
        "def plot_model_history(model_history):\n",
        "    fig, axs = plt.subplots(1,2,figsize=(15,5))\n",
        "    # summarize history for accuracy\n",
        "    axs[0].plot(range(1,len(model_history.history['acc'])+1),model_history.history['acc'])\n",
        "    axs[0].plot(range(1,len(model_history.history['val_acc'])+1),model_history.history['val_acc'])\n",
        "    axs[0].set_title('Model Accuracy')\n",
        "    axs[0].set_ylabel('Accuracy')\n",
        "    axs[0].set_xlabel('Epoch')\n",
        "    axs[0].set_xticks(np.arange(1,len(model_history.history['acc'])+1),len(model_history.history['acc'])/10)\n",
        "    axs[0].legend(['train', 'val'], loc='best')\n",
        "    # summarize history for loss\n",
        "    axs[1].plot(range(1,len(model_history.history['loss'])+1),model_history.history['loss'])\n",
        "    axs[1].plot(range(1,len(model_history.history['val_loss'])+1),model_history.history['val_loss'])\n",
        "    axs[1].set_title('Model Loss')\n",
        "    axs[1].set_ylabel('Loss')\n",
        "    axs[1].set_xlabel('Epoch')\n",
        "    axs[1].set_xticks(np.arange(1,len(model_history.history['loss'])+1),len(model_history.history['loss'])/10)\n",
        "    axs[1].legend(['train', 'val'], loc='best')\n",
        "    plt.show()"
      ],
      "execution_count": 0,
      "outputs": []
    },
    {
      "metadata": {
        "id": "ayAGHI7yRuUe",
        "colab_type": "code",
        "colab": {}
      },
      "cell_type": "code",
      "source": [
        "def model_evaluate(): \n",
        "    # predict class with test set\n",
        "    y_pred_test =  model.predict_classes(X_test, batch_size=batch_size, verbose=0)\n",
        "    print('Accuracy:\\t{:0.1f}%'.format(accuracy_score(np.argmax(y_test,axis=1),y_pred_test)*100))\n",
        "    \n",
        "    #classification report\n",
        "    print('\\n')\n",
        "    print(classification_report(np.argmax(y_test,axis=1), y_pred_test))\n",
        "\n",
        "    #confusion matrix\n",
        "    confmat = confusion_matrix(np.argmax(y_test,axis=1), y_pred_test)\n",
        "\n",
        "    fig, ax = plt.subplots(figsize=(4, 4))\n",
        "    ax.matshow(confmat, cmap=plt.cm.Blues, alpha=0.3)\n",
        "    for i in range(confmat.shape[0]):\n",
        "        for j in range(confmat.shape[1]):\n",
        "            ax.text(x=j, y=i, s=confmat[i, j], va='center', ha='center')\n",
        "    plt.xlabel('Predicted label')\n",
        "    plt.ylabel('True label')\n",
        "    plt.tight_layout()"
      ],
      "execution_count": 0,
      "outputs": []
    },
    {
      "metadata": {
        "id": "7b4RQTT5RuUi",
        "colab_type": "code",
        "outputId": "e543759a-b67c-4005-99e9-f5ca11244edb",
        "colab": {
          "base_uri": "https://localhost:8080/",
          "height": 1063
        }
      },
      "cell_type": "code",
      "source": [
        "# train the model\n",
        "max_features = 20000\n",
        "num_classes = 3\n",
        "embed_dim = 100\n",
        "model = get_model(max_features, embed_dim)\n",
        "model_train(model)"
      ],
      "execution_count": 41,
      "outputs": [
        {
          "output_type": "stream",
          "text": [
            "WARNING:tensorflow:From /usr/local/lib/python3.6/dist-packages/tensorflow/python/framework/op_def_library.py:263: colocate_with (from tensorflow.python.framework.ops) is deprecated and will be removed in a future version.\n",
            "Instructions for updating:\n",
            "Colocations handled automatically by placer.\n",
            "WARNING:tensorflow:From /usr/local/lib/python3.6/dist-packages/keras/backend/tensorflow_backend.py:3445: calling dropout (from tensorflow.python.ops.nn_ops) with keep_prob is deprecated and will be removed in a future version.\n",
            "Instructions for updating:\n",
            "Please use `rate` instead of `keep_prob`. Rate should be set to `rate = 1 - keep_prob`.\n",
            "_________________________________________________________________\n",
            "Layer (type)                 Output Shape              Param #   \n",
            "=================================================================\n",
            "embedding_1 (Embedding)      (None, 30, 100)           2000000   \n",
            "_________________________________________________________________\n",
            "conv1d_1 (Conv1D)            (None, 30, 32)            9632      \n",
            "_________________________________________________________________\n",
            "max_pooling1d_1 (MaxPooling1 (None, 15, 32)            0         \n",
            "_________________________________________________________________\n",
            "conv1d_2 (Conv1D)            (None, 15, 32)            3104      \n",
            "_________________________________________________________________\n",
            "max_pooling1d_2 (MaxPooling1 (None, 7, 32)             0         \n",
            "_________________________________________________________________\n",
            "lstm_1 (LSTM)                (None, 100)               53200     \n",
            "_________________________________________________________________\n",
            "dense_1 (Dense)              (None, 3)                 303       \n",
            "=================================================================\n",
            "Total params: 2,066,239\n",
            "Trainable params: 2,066,239\n",
            "Non-trainable params: 0\n",
            "_________________________________________________________________\n",
            "None\n",
            "WARNING:tensorflow:From /usr/local/lib/python3.6/dist-packages/tensorflow/python/ops/math_ops.py:3066: to_int32 (from tensorflow.python.ops.math_ops) is deprecated and will be removed in a future version.\n",
            "Instructions for updating:\n",
            "Use tf.cast instead.\n",
            "Train on 40686 samples, validate on 10172 samples\n",
            "Epoch 1/5\n",
            " - 20s - loss: 0.3725 - acc: 0.8557 - val_loss: 0.1458 - val_acc: 0.9564\n",
            "Epoch 2/5\n",
            " - 13s - loss: 0.0893 - acc: 0.9738 - val_loss: 0.1167 - val_acc: 0.9651\n",
            "Epoch 3/5\n",
            " - 12s - loss: 0.0440 - acc: 0.9875 - val_loss: 0.1205 - val_acc: 0.9662\n",
            "Epoch 4/5\n",
            " - 12s - loss: 0.0276 - acc: 0.9925 - val_loss: 0.1330 - val_acc: 0.9668\n",
            "Epoch 5/5\n",
            " - 13s - loss: 0.0179 - acc: 0.9951 - val_loss: 0.1470 - val_acc: 0.9676\n"
          ],
          "name": "stdout"
        },
        {
          "output_type": "display_data",
          "data": {
            "image/png": "[encoded data removed]",
            "text/plain": [
              "<Figure size 1080x360 with 2 Axes>"
            ]
          },
          "metadata": {
            "tags": []
          }
        }
      ]
    },
    {
      "metadata": {
        "scrolled": true,
        "id": "jsuupvd0RuUn",
        "colab_type": "code",
        "outputId": "b4df7620-ce92-4b15-9cb1-7aa22f621b8e",
        "colab": {
          "base_uri": "https://localhost:8080/",
          "height": 518
        }
      },
      "cell_type": "code",
      "source": [
        "# evaluate model with test set\n",
        "model_evaluate()"
      ],
      "execution_count": 42,
      "outputs": [
        {
          "output_type": "stream",
          "text": [
            "Accuracy:\t96.8%\n",
            "\n",
            "\n",
            "              precision    recall  f1-score   support\n",
            "\n",
            "           0       0.97      0.89      0.93      1197\n",
            "           1       0.96      0.98      0.97      4388\n",
            "           2       0.98      0.97      0.97      4587\n",
            "\n",
            "   micro avg       0.97      0.97      0.97     10172\n",
            "   macro avg       0.97      0.95      0.96     10172\n",
            "weighted avg       0.97      0.97      0.97     10172\n",
            "\n"
          ],
          "name": "stdout"
        },
        {
          "output_type": "display_data",
          "data": {
            "image/png": "[encoded data removed]",
            "text/plain": [
              "<Figure size 288x288 with 1 Axes>"
            ]
          },
          "metadata": {
            "tags": []
          }
        }
      ]
    },
    {
      "metadata": {
        "id": "Kd1HCe7XRuUs",
        "colab_type": "code",
        "colab": {}
      },
      "cell_type": "code",
      "source": [
        "y_pred_test =  model.predict_classes(X_test, batch_size=batch_size, verbose=0)"
      ],
      "execution_count": 0,
      "outputs": []
    },
    {
      "metadata": {
        "id": "xjKwYEcyHkK_",
        "colab_type": "code",
        "outputId": "7d422550-7738-4dd2-d3dc-21ba40947215",
        "colab": {
          "base_uri": "https://localhost:8080/",
          "height": 68
        }
      },
      "cell_type": "code",
      "source": [
        "!kaggle datasets download -d datacesto/bitcointweetssprinkler -p /content"
      ],
      "execution_count": 0,
      "outputs": [
        {
          "output_type": "stream",
          "text": [
            "Downloading bitcointweetssprinkler.zip to /content\n",
            "\r  0% 0.00/294k [00:00<?, ?B/s]\n",
            "\r100% 294k/294k [00:00<00:00, 42.9MB/s]\n"
          ],
          "name": "stdout"
        }
      ]
    },
    {
      "metadata": {
        "id": "L7KdEf9_H-bT",
        "colab_type": "code",
        "outputId": "a5cb4b8c-5d44-45f1-dbd9-c1258a1ec18d",
        "colab": {
          "base_uri": "https://localhost:8080/",
          "height": 153
        }
      },
      "cell_type": "code",
      "source": [
        "!unzip \\*.zip"
      ],
      "execution_count": 0,
      "outputs": [
        {
          "output_type": "stream",
          "text": [
            "Archive:  bitcointweetssprinkler.zip\n",
            "  inflating: BitcoinTweetsFiltered.csv  \n",
            "\n",
            "Archive:  bitcoin-tweets.zip\n",
            "replace bitcointweets.csv? [y]es, [n]o, [A]ll, [N]one, [r]ename: y\n",
            "  inflating: bitcointweets.csv       \n",
            "\n",
            "2 archives were successfully processed.\n"
          ],
          "name": "stdout"
        }
      ]
    },
    {
      "metadata": {
        "id": "jHcN8xRdRuUu",
        "colab_type": "code",
        "outputId": "e981b106-b8ec-49d7-fcc2-a3e3b4c9be87",
        "colab": {
          "base_uri": "https://localhost:8080/",
          "height": 306
        }
      },
      "cell_type": "code",
      "source": [
        "#Load new tweets to be predicted\n",
        "df = pd.read_csv('BitcoinTweetsFiltered.csv', encoding='utf-16')\n",
        "df.head()"
      ],
      "execution_count": 0,
      "outputs": [
        {
          "output_type": "execute_result",
          "data": {
            "text/html": [
              "<div>\n",
              "<style scoped>\n",
              "    .dataframe tbody tr th:only-of-type {\n",
              "        vertical-align: middle;\n",
              "    }\n",
              "\n",
              "    .dataframe tbody tr th {\n",
              "        vertical-align: top;\n",
              "    }\n",
              "\n",
              "    .dataframe thead th {\n",
              "        text-align: right;\n",
              "    }\n",
              "</style>\n",
              "<table border=\"1\" class=\"dataframe\">\n",
              "  <thead>\n",
              "    <tr style=\"text-align: right;\">\n",
              "      <th></th>\n",
              "      <th>Unnamed: 0</th>\n",
              "      <th>Created_at</th>\n",
              "      <th>Text</th>\n",
              "      <th>Lang</th>\n",
              "    </tr>\n",
              "  </thead>\n",
              "  <tbody>\n",
              "    <tr>\n",
              "      <th>0</th>\n",
              "      <td>0</td>\n",
              "      <td>Mon Oct 01 06:29:17 +0000 2018</td>\n",
              "      <td>Australian government develops decentralized blockchain that records 40,000 tx/second, can the country see rapid cr… https://t.co/Or5FqkmCW1</td>\n",
              "      <td>en</td>\n",
              "    </tr>\n",
              "    <tr>\n",
              "      <th>1</th>\n",
              "      <td>2</td>\n",
              "      <td>Mon Oct 01 06:30:10 +0000 2018</td>\n",
              "      <td>https://t.co/Esl6lG8SMS 💯 Does Website Speed Affect Seo?\\r\\n#RankBio #Insights #Moz #GoogleRank #WebPage… https://t.co/mBmGQwG1Ri</td>\n",
              "      <td>en</td>\n",
              "    </tr>\n",
              "    <tr>\n",
              "      <th>2</th>\n",
              "      <td>4</td>\n",
              "      <td>Mon Oct 01 06:31:14 +0000 2018</td>\n",
              "      <td>RT @YourootNews: Early 2018, TreeBlock's Founder participated a private event of the tech research community about the future technologies…</td>\n",
              "      <td>en</td>\n",
              "    </tr>\n",
              "    <tr>\n",
              "      <th>3</th>\n",
              "      <td>5</td>\n",
              "      <td>Mon Oct 01 06:31:16 +0000 2018</td>\n",
              "      <td>Binance gives free money through airdrops! Join today\\r\\n\\r\\nClick here: https://t.co/rMTJwRkvcw   \\r\\n\\r\\n$BTC $ETH $OMG $LSK… https://t.co/uQrpZyCclK</td>\n",
              "      <td>en</td>\n",
              "    </tr>\n",
              "    <tr>\n",
              "      <th>4</th>\n",
              "      <td>6</td>\n",
              "      <td>Mon Oct 01 06:31:18 +0000 2018</td>\n",
              "      <td>RT @ServAdvisor: Another good review of ServAdvisor project: \\r\\nhttps://t.co/ZAiJoOyzs0\\r\\n\\r\\n#cryptonews #cryptocurrency #blockchain #ICO #Crypto…</td>\n",
              "      <td>en</td>\n",
              "    </tr>\n",
              "  </tbody>\n",
              "</table>\n",
              "</div>"
            ],
            "text/plain": [
              "   Unnamed: 0                      Created_at  \\\n",
              "0  0           Mon Oct 01 06:29:17 +0000 2018   \n",
              "1  2           Mon Oct 01 06:30:10 +0000 2018   \n",
              "2  4           Mon Oct 01 06:31:14 +0000 2018   \n",
              "3  5           Mon Oct 01 06:31:16 +0000 2018   \n",
              "4  6           Mon Oct 01 06:31:18 +0000 2018   \n",
              "\n",
              "                                                                                                                                                      Text  \\\n",
              "0  Australian government develops decentralized blockchain that records 40,000 tx/second, can the country see rapid cr… https://t.co/Or5FqkmCW1              \n",
              "1  https://t.co/Esl6lG8SMS 💯 Does Website Speed Affect Seo?\\r\\n#RankBio #Insights #Moz #GoogleRank #WebPage… https://t.co/mBmGQwG1Ri                         \n",
              "2  RT @YourootNews: Early 2018, TreeBlock's Founder participated a private event of the tech research community about the future technologies…               \n",
              "3  Binance gives free money through airdrops! Join today\\r\\n\\r\\nClick here: https://t.co/rMTJwRkvcw   \\r\\n\\r\\n$BTC $ETH $OMG $LSK… https://t.co/uQrpZyCclK   \n",
              "4  RT @ServAdvisor: Another good review of ServAdvisor project: \\r\\nhttps://t.co/ZAiJoOyzs0\\r\\n\\r\\n#cryptonews #cryptocurrency #blockchain #ICO #Crypto…     \n",
              "\n",
              "  Lang  \n",
              "0  en   \n",
              "1  en   \n",
              "2  en   \n",
              "3  en   \n",
              "4  en   "
            ]
          },
          "metadata": {
            "tags": []
          },
          "execution_count": 40
        }
      ]
    },
    {
      "metadata": {
        "id": "AoSiWnlpRuUz",
        "colab_type": "code",
        "colab": {}
      },
      "cell_type": "code",
      "source": [
        "X_new = df[\"Text\"]  \n",
        "#Turn tweets into vectors\n",
        "X_new = tokenizer.texts_to_sequences(X_new)\n",
        "X_new = sequence.pad_sequences(X_new, maxlen=max_words)"
      ],
      "execution_count": 0,
      "outputs": []
    },
    {
      "metadata": {
        "id": "GKO-FJUkRuU2",
        "colab_type": "code",
        "colab": {}
      },
      "cell_type": "code",
      "source": [
        "y_pred_label =  model.predict_classes(X_new, batch_size=batch_size, verbose=0)"
      ],
      "execution_count": 0,
      "outputs": []
    },
    {
      "metadata": {
        "id": "ek6tPG-URuU5",
        "colab_type": "code",
        "colab": {}
      },
      "cell_type": "code",
      "source": [
        "df['label'] = y_pred_label"
      ],
      "execution_count": 0,
      "outputs": []
    },
    {
      "metadata": {
        "id": "HrYL5CTwRuU7",
        "colab_type": "code",
        "outputId": "9feacd15-df4b-43e2-dbdc-a5f70af10eff",
        "colab": {
          "base_uri": "https://localhost:8080/",
          "height": 546
        }
      },
      "cell_type": "code",
      "source": [
        "df.loc[df[\"label\"] == 2].head(10)"
      ],
      "execution_count": 0,
      "outputs": [
        {
          "output_type": "execute_result",
          "data": {
            "text/html": [
              "<div>\n",
              "<style scoped>\n",
              "    .dataframe tbody tr th:only-of-type {\n",
              "        vertical-align: middle;\n",
              "    }\n",
              "\n",
              "    .dataframe tbody tr th {\n",
              "        vertical-align: top;\n",
              "    }\n",
              "\n",
              "    .dataframe thead th {\n",
              "        text-align: right;\n",
              "    }\n",
              "</style>\n",
              "<table border=\"1\" class=\"dataframe\">\n",
              "  <thead>\n",
              "    <tr style=\"text-align: right;\">\n",
              "      <th></th>\n",
              "      <th>Unnamed: 0</th>\n",
              "      <th>Created_at</th>\n",
              "      <th>Text</th>\n",
              "      <th>Lang</th>\n",
              "      <th>label</th>\n",
              "    </tr>\n",
              "  </thead>\n",
              "  <tbody>\n",
              "    <tr>\n",
              "      <th>3</th>\n",
              "      <td>5</td>\n",
              "      <td>Mon Oct 01 06:31:16 +0000 2018</td>\n",
              "      <td>Binance gives free money through airdrops! Join today\\r\\n\\r\\nClick here: https://t.co/rMTJwRkvcw   \\r\\n\\r\\n$BTC $ETH $OMG $LSK… https://t.co/uQrpZyCclK</td>\n",
              "      <td>en</td>\n",
              "      <td>2</td>\n",
              "    </tr>\n",
              "    <tr>\n",
              "      <th>4</th>\n",
              "      <td>6</td>\n",
              "      <td>Mon Oct 01 06:31:18 +0000 2018</td>\n",
              "      <td>RT @ServAdvisor: Another good review of ServAdvisor project: \\r\\nhttps://t.co/ZAiJoOyzs0\\r\\n\\r\\n#cryptonews #cryptocurrency #blockchain #ICO #Crypto…</td>\n",
              "      <td>en</td>\n",
              "      <td>2</td>\n",
              "    </tr>\n",
              "    <tr>\n",
              "      <th>5</th>\n",
              "      <td>7</td>\n",
              "      <td>Mon Oct 01 06:31:19 +0000 2018</td>\n",
              "      <td>Why does everything has its own unique and custom config format!?\\r\\n\\r\\nEvery time one needs to figure out if: it's case… https://t.co/dWOMSd8wNx</td>\n",
              "      <td>en</td>\n",
              "      <td>2</td>\n",
              "    </tr>\n",
              "    <tr>\n",
              "      <th>9</th>\n",
              "      <td>12</td>\n",
              "      <td>Mon Oct 01 06:32:18 +0000 2018</td>\n",
              "      <td>Regina SK Weather, Temp:0.6ºC; Dew:-5.8ºC; Pressure:1023.30hPa.; Wind:2/kph@97.0; Humdity:62… https://t.co/otRPbIJ6vl</td>\n",
              "      <td>en</td>\n",
              "      <td>2</td>\n",
              "    </tr>\n",
              "    <tr>\n",
              "      <th>14</th>\n",
              "      <td>19</td>\n",
              "      <td>Mon Oct 01 06:34:43 +0000 2018</td>\n",
              "      <td>RT @elyqdcom: Train your mind to see the good in every situation.\\r\\n\\r\\nhttps://t.co/g5hzl8KxjR   #ico #tokensale #crowdsale #fundraising #token…</td>\n",
              "      <td>en</td>\n",
              "      <td>2</td>\n",
              "    </tr>\n",
              "    <tr>\n",
              "      <th>19</th>\n",
              "      <td>27</td>\n",
              "      <td>Mon Oct 01 06:36:50 +0000 2018</td>\n",
              "      <td>RT @reddcoin: #ReddHeads, today is actually the day! #ReddID #Social Tipping Extension #MVP v0.99 is out (https://t.co/u0aZtx1WIq) for the…</td>\n",
              "      <td>en</td>\n",
              "      <td>2</td>\n",
              "    </tr>\n",
              "    <tr>\n",
              "      <th>20</th>\n",
              "      <td>31</td>\n",
              "      <td>Mon Oct 01 06:38:52 +0000 2018</td>\n",
              "      <td>best project</td>\n",
              "      <td>en</td>\n",
              "      <td>2</td>\n",
              "    </tr>\n",
              "    <tr>\n",
              "      <th>21</th>\n",
              "      <td>32</td>\n",
              "      <td>Mon Oct 01 06:39:09 +0000 2018</td>\n",
              "      <td>RT @ConnectyCTY: Connecty is the first #blockchain platform dedicated entirely to the #knowledge economy. \\r\\nOur ambition? Foster the #innova…</td>\n",
              "      <td>en</td>\n",
              "      <td>2</td>\n",
              "    </tr>\n",
              "    <tr>\n",
              "      <th>24</th>\n",
              "      <td>37</td>\n",
              "      <td>Mon Oct 01 06:41:57 +0000 2018</td>\n",
              "      <td>RT @oxley_token: I will choose 1 random followers to win 10000 OXLEY  \\r\\nPlease :\\r\\n\\r\\n1. FOLLOW\\r\\n2. LIKE AND RETWEET \\r\\n3. Comment your ETH address…</td>\n",
              "      <td>en</td>\n",
              "      <td>2</td>\n",
              "    </tr>\n",
              "    <tr>\n",
              "      <th>25</th>\n",
              "      <td>38</td>\n",
              "      <td>Mon Oct 01 06:42:14 +0000 2018</td>\n",
              "      <td>RT @ConnectyCTY: Connecty is the first #blockchain platform dedicated entirely to the #knowledge economy. \\r\\nOur ambition? Foster the #innova…</td>\n",
              "      <td>en</td>\n",
              "      <td>2</td>\n",
              "    </tr>\n",
              "  </tbody>\n",
              "</table>\n",
              "</div>"
            ],
            "text/plain": [
              "    Unnamed: 0                      Created_at  \\\n",
              "3   5           Mon Oct 01 06:31:16 +0000 2018   \n",
              "4   6           Mon Oct 01 06:31:18 +0000 2018   \n",
              "5   7           Mon Oct 01 06:31:19 +0000 2018   \n",
              "9   12          Mon Oct 01 06:32:18 +0000 2018   \n",
              "14  19          Mon Oct 01 06:34:43 +0000 2018   \n",
              "19  27          Mon Oct 01 06:36:50 +0000 2018   \n",
              "20  31          Mon Oct 01 06:38:52 +0000 2018   \n",
              "21  32          Mon Oct 01 06:39:09 +0000 2018   \n",
              "24  37          Mon Oct 01 06:41:57 +0000 2018   \n",
              "25  38          Mon Oct 01 06:42:14 +0000 2018   \n",
              "\n",
              "                                                                                                                                                           Text  \\\n",
              "3   Binance gives free money through airdrops! Join today\\r\\n\\r\\nClick here: https://t.co/rMTJwRkvcw   \\r\\n\\r\\n$BTC $ETH $OMG $LSK… https://t.co/uQrpZyCclK       \n",
              "4   RT @ServAdvisor: Another good review of ServAdvisor project: \\r\\nhttps://t.co/ZAiJoOyzs0\\r\\n\\r\\n#cryptonews #cryptocurrency #blockchain #ICO #Crypto…         \n",
              "5   Why does everything has its own unique and custom config format!?\\r\\n\\r\\nEvery time one needs to figure out if: it's case… https://t.co/dWOMSd8wNx            \n",
              "9   Regina SK Weather, Temp:0.6ºC; Dew:-5.8ºC; Pressure:1023.30hPa.; Wind:2/kph@97.0; Humdity:62… https://t.co/otRPbIJ6vl                                         \n",
              "14  RT @elyqdcom: Train your mind to see the good in every situation.\\r\\n\\r\\nhttps://t.co/g5hzl8KxjR   #ico #tokensale #crowdsale #fundraising #token…            \n",
              "19  RT @reddcoin: #ReddHeads, today is actually the day! #ReddID #Social Tipping Extension #MVP v0.99 is out (https://t.co/u0aZtx1WIq) for the…                   \n",
              "20  best project                                                                                                                                                  \n",
              "21  RT @ConnectyCTY: Connecty is the first #blockchain platform dedicated entirely to the #knowledge economy. \\r\\nOur ambition? Foster the #innova…               \n",
              "24  RT @oxley_token: I will choose 1 random followers to win 10000 OXLEY  \\r\\nPlease :\\r\\n\\r\\n1. FOLLOW\\r\\n2. LIKE AND RETWEET \\r\\n3. Comment your ETH address…   \n",
              "25  RT @ConnectyCTY: Connecty is the first #blockchain platform dedicated entirely to the #knowledge economy. \\r\\nOur ambition? Foster the #innova…               \n",
              "\n",
              "   Lang  label  \n",
              "3   en   2      \n",
              "4   en   2      \n",
              "5   en   2      \n",
              "9   en   2      \n",
              "14  en   2      \n",
              "19  en   2      \n",
              "20  en   2      \n",
              "21  en   2      \n",
              "24  en   2      \n",
              "25  en   2      "
            ]
          },
          "metadata": {
            "tags": []
          },
          "execution_count": 76
        }
      ]
    },
    {
      "metadata": {
        "id": "i6VzrVNDRuVB",
        "colab_type": "code",
        "outputId": "6c8e479c-7fa1-4ba7-c2c0-17e8803df8b4",
        "colab": {
          "base_uri": "https://localhost:8080/",
          "height": 187
        }
      },
      "cell_type": "code",
      "source": [
        "df.info()"
      ],
      "execution_count": 0,
      "outputs": [
        {
          "output_type": "stream",
          "text": [
            "<class 'pandas.core.frame.DataFrame'>\n",
            "RangeIndex: 3686 entries, 0 to 3685\n",
            "Data columns (total 5 columns):\n",
            "Unnamed: 0    3686 non-null int64\n",
            "Created_at    3686 non-null object\n",
            "Text          3686 non-null object\n",
            "Lang          3686 non-null object\n",
            "label         3686 non-null int64\n",
            "dtypes: int64(2), object(3)\n",
            "memory usage: 144.1+ KB\n"
          ],
          "name": "stdout"
        }
      ]
    },
    {
      "metadata": {
        "id": "lDwv7bBjRuVG",
        "colab_type": "code",
        "outputId": "1bfc2afc-0cde-469a-dda7-35773ceeaa2b",
        "colab": {
          "base_uri": "https://localhost:8080/",
          "height": 296
        }
      },
      "cell_type": "code",
      "source": [
        "# inspect sentiment\n",
        "sns.countplot(df['label'])"
      ],
      "execution_count": 0,
      "outputs": [
        {
          "output_type": "execute_result",
          "data": {
            "text/plain": [
              "<matplotlib.axes._subplots.AxesSubplot at 0x7f0e106b3da0>"
            ]
          },
          "metadata": {
            "tags": []
          },
          "execution_count": 60
        },
        {
          "output_type": "display_data",
          "data": {
            "image/png": "[encoded data removed]",
            "text/plain": [
              "<Figure size 432x288 with 1 Axes>"
            ]
          },
          "metadata": {
            "tags": []
          }
        }
      ]
    },
    {
      "metadata": {
        "id": "xmP4yRLnRuVK",
        "colab_type": "code",
        "colab": {}
      },
      "cell_type": "code",
      "source": [
        "df.to_csv(\"NewTweetsLabelled.csv\", encoding='utf-16')"
      ],
      "execution_count": 0,
      "outputs": []
    },
    {
      "metadata": {
        "id": "AO2qJmPWnTyK",
        "colab_type": "code",
        "outputId": "598eb542-f549-42f5-c3eb-c89b85eecb9e",
        "colab": {
          "base_uri": "https://localhost:8080/",
          "height": 68
        }
      },
      "cell_type": "code",
      "source": [
        "!kaggle datasets download -d datacesto/twitterbitcoins2019 -p /content"
      ],
      "execution_count": 0,
      "outputs": [
        {
          "output_type": "stream",
          "text": [
            "Downloading twitterbitcoins2019.zip to /content\n",
            "\r  0% 0.00/1.49M [00:00<?, ?B/s]\n",
            "\r100% 1.49M/1.49M [00:00<00:00, 49.0MB/s]\n"
          ],
          "name": "stdout"
        }
      ]
    },
    {
      "metadata": {
        "id": "w3K3OCeyno16",
        "colab_type": "code",
        "outputId": "5256a500-30e2-4b71-80d2-58b7838e0f5b",
        "colab": {
          "base_uri": "https://localhost:8080/",
          "height": 68
        }
      },
      "cell_type": "code",
      "source": [
        "!unzip \\twitterbitcoins2019.zip"
      ],
      "execution_count": 0,
      "outputs": [
        {
          "output_type": "stream",
          "text": [
            "Archive:  twitterbitcoins2019.zip\n",
            "replace TwitterData_Processed.csv? [y]es, [n]o, [A]ll, [N]one, [r]ename: y\n",
            "  inflating: TwitterData_Processed.csv  \n"
          ],
          "name": "stdout"
        }
      ]
    },
    {
      "metadata": {
        "id": "QIiOceaWnAfF",
        "colab_type": "code",
        "outputId": "4f396355-5acb-43e2-8e90-529808232624",
        "colab": {
          "base_uri": "https://localhost:8080/",
          "height": 374
        }
      },
      "cell_type": "code",
      "source": [
        "#Load new tweets to be predicted\n",
        "df = pd.read_csv('TwitterData_Processed.csv', sep=\",\", encoding=\"utf-8\",names = [\"Sequence\", \"user\", \"Timestamp\", \"Text\"],)\n",
        "df.head()"
      ],
      "execution_count": 0,
      "outputs": [
        {
          "output_type": "execute_result",
          "data": {
            "text/html": [
              "<div>\n",
              "<style scoped>\n",
              "    .dataframe tbody tr th:only-of-type {\n",
              "        vertical-align: middle;\n",
              "    }\n",
              "\n",
              "    .dataframe tbody tr th {\n",
              "        vertical-align: top;\n",
              "    }\n",
              "\n",
              "    .dataframe thead th {\n",
              "        text-align: right;\n",
              "    }\n",
              "</style>\n",
              "<table border=\"1\" class=\"dataframe\">\n",
              "  <thead>\n",
              "    <tr style=\"text-align: right;\">\n",
              "      <th></th>\n",
              "      <th>Sequence</th>\n",
              "      <th>user</th>\n",
              "      <th>Timestamp</th>\n",
              "      <th>Text</th>\n",
              "    </tr>\n",
              "  </thead>\n",
              "  <tbody>\n",
              "    <tr>\n",
              "      <th>0</th>\n",
              "      <td>1</td>\n",
              "      <td>;EmpireSell</td>\n",
              "      <td>Thu Mar 14 20:59:24 +0000 2019</td>\n",
              "      <td>sell full access og unstack ghoul bitcoin paypal fampf payment sell bc pc ban account</td>\n",
              "    </tr>\n",
              "    <tr>\n",
              "      <th>1</th>\n",
              "      <td>2</td>\n",
              "      <td>;BitWearz</td>\n",
              "      <td>Thu Mar 14 20:59:25 +0000 2019</td>\n",
              "      <td>bitchcoin fck she good call back everi time btc bitcoin cryptocurr</td>\n",
              "    </tr>\n",
              "    <tr>\n",
              "      <th>2</th>\n",
              "      <td>3</td>\n",
              "      <td>;BlockWatcher</td>\n",
              "      <td>Thu Mar 14 20:59:26 +0000 2019</td>\n",
              "      <td>thu mar fourteen time two thousand nineteen time usd three thousand eight hundr eighti four thirti nine one hundredth wght zero nineteen one hundredth blk five hundr sixti seven thousand eighti size one hundr sixti one nine tenth kb tx four hundr seventi three pool two hundr forti zero mb zero bitcoin</td>\n",
              "    </tr>\n",
              "    <tr>\n",
              "      <th>3</th>\n",
              "      <td>4</td>\n",
              "      <td>;Nanyna221</td>\n",
              "      <td>Thu Mar 14 20:59:26 +0000 2019</td>\n",
              "      <td>thank support dap anoth masternod worth dap giveaway start testnet start plea</td>\n",
              "    </tr>\n",
              "    <tr>\n",
              "      <th>4</th>\n",
              "      <td>5</td>\n",
              "      <td>;CyclopsWK</td>\n",
              "      <td>Thu Mar 14 20:59:27 +0000 2019</td>\n",
              "      <td>yet btc</td>\n",
              "    </tr>\n",
              "  </tbody>\n",
              "</table>\n",
              "</div>"
            ],
            "text/plain": [
              "   Sequence           user                       Timestamp  \\\n",
              "0  1         ;EmpireSell    Thu Mar 14 20:59:24 +0000 2019   \n",
              "1  2         ;BitWearz      Thu Mar 14 20:59:25 +0000 2019   \n",
              "2  3         ;BlockWatcher  Thu Mar 14 20:59:26 +0000 2019   \n",
              "3  4         ;Nanyna221     Thu Mar 14 20:59:26 +0000 2019   \n",
              "4  5         ;CyclopsWK     Thu Mar 14 20:59:27 +0000 2019   \n",
              "\n",
              "                                                                                                                                                                                                                                                                                                             Text  \n",
              "0  sell full access og unstack ghoul bitcoin paypal fampf payment sell bc pc ban account                                                                                                                                                                                                                           \n",
              "1  bitchcoin fck she good call back everi time btc bitcoin cryptocurr                                                                                                                                                                                                                                              \n",
              "2  thu mar fourteen time two thousand nineteen time usd three thousand eight hundr eighti four thirti nine one hundredth wght zero nineteen one hundredth blk five hundr sixti seven thousand eighti size one hundr sixti one nine tenth kb tx four hundr seventi three pool two hundr forti zero mb zero bitcoin  \n",
              "3  thank support dap anoth masternod worth dap giveaway start testnet start plea                                                                                                                                                                                                                                   \n",
              "4  yet btc                                                                                                                                                                                                                                                                                                         "
            ]
          },
          "metadata": {
            "tags": []
          },
          "execution_count": 81
        }
      ]
    },
    {
      "metadata": {
        "id": "a1aEdng87kkC",
        "colab_type": "code",
        "colab": {}
      },
      "cell_type": "code",
      "source": [
        "df[\"Text\"]=df[\"Text\"].astype(str)"
      ],
      "execution_count": 0,
      "outputs": []
    },
    {
      "metadata": {
        "id": "UjzAQPslznix",
        "colab_type": "code",
        "colab": {}
      },
      "cell_type": "code",
      "source": [
        "X_new = df[\"Text\"]  \n",
        "#Turn tweets into vectors\n",
        "X_new = tokenizer.texts_to_sequences(X_new)\n",
        "X_new = sequence.pad_sequences(X_new, maxlen=max_words)\n"
      ],
      "execution_count": 0,
      "outputs": []
    },
    {
      "metadata": {
        "id": "qFxdidraY3Ip",
        "colab_type": "text"
      },
      "cell_type": "markdown",
      "source": [
        "# Nouvelle section"
      ]
    },
    {
      "metadata": {
        "id": "2WVNrfic8yiL",
        "colab_type": "code",
        "colab": {}
      },
      "cell_type": "code",
      "source": [
        "y_pred_label =  model.predict_classes(X_new, batch_size=batch_size, verbose=0)"
      ],
      "execution_count": 0,
      "outputs": []
    },
    {
      "metadata": {
        "id": "6Z8ivY1-8zE0",
        "colab_type": "code",
        "colab": {}
      },
      "cell_type": "code",
      "source": [
        "df['label'] = y_pred_label"
      ],
      "execution_count": 0,
      "outputs": []
    },
    {
      "metadata": {
        "id": "Yg9LwzeT8zmG",
        "colab_type": "code",
        "outputId": "86e4e960-d473-47cb-8edf-1318b449809f",
        "colab": {
          "base_uri": "https://localhost:8080/",
          "height": 1349
        }
      },
      "cell_type": "code",
      "source": [
        "df.head(20)"
      ],
      "execution_count": 0,
      "outputs": [
        {
          "output_type": "execute_result",
          "data": {
            "text/html": [
              "<div>\n",
              "<style scoped>\n",
              "    .dataframe tbody tr th:only-of-type {\n",
              "        vertical-align: middle;\n",
              "    }\n",
              "\n",
              "    .dataframe tbody tr th {\n",
              "        vertical-align: top;\n",
              "    }\n",
              "\n",
              "    .dataframe thead th {\n",
              "        text-align: right;\n",
              "    }\n",
              "</style>\n",
              "<table border=\"1\" class=\"dataframe\">\n",
              "  <thead>\n",
              "    <tr style=\"text-align: right;\">\n",
              "      <th></th>\n",
              "      <th>Sequence</th>\n",
              "      <th>user</th>\n",
              "      <th>Timestamp</th>\n",
              "      <th>Text</th>\n",
              "      <th>label</th>\n",
              "    </tr>\n",
              "  </thead>\n",
              "  <tbody>\n",
              "    <tr>\n",
              "      <th>0</th>\n",
              "      <td>1</td>\n",
              "      <td>;EmpireSell</td>\n",
              "      <td>Thu Mar 14 20:59:24 +0000 2019</td>\n",
              "      <td>sell full access og unstack ghoul bitcoin paypal fampf payment sell bc pc ban account</td>\n",
              "      <td>2</td>\n",
              "    </tr>\n",
              "    <tr>\n",
              "      <th>1</th>\n",
              "      <td>2</td>\n",
              "      <td>;BitWearz</td>\n",
              "      <td>Thu Mar 14 20:59:25 +0000 2019</td>\n",
              "      <td>bitchcoin fck she good call back everi time btc bitcoin cryptocurr</td>\n",
              "      <td>2</td>\n",
              "    </tr>\n",
              "    <tr>\n",
              "      <th>2</th>\n",
              "      <td>3</td>\n",
              "      <td>;BlockWatcher</td>\n",
              "      <td>Thu Mar 14 20:59:26 +0000 2019</td>\n",
              "      <td>thu mar fourteen time two thousand nineteen time usd three thousand eight hundr eighti four thirti nine one hundredth wght zero nineteen one hundredth blk five hundr sixti seven thousand eighti size one hundr sixti one nine tenth kb tx four hundr seventi three pool two hundr forti zero mb zero bitcoin</td>\n",
              "      <td>1</td>\n",
              "    </tr>\n",
              "    <tr>\n",
              "      <th>3</th>\n",
              "      <td>4</td>\n",
              "      <td>;Nanyna221</td>\n",
              "      <td>Thu Mar 14 20:59:26 +0000 2019</td>\n",
              "      <td>thank support dap anoth masternod worth dap giveaway start testnet start plea</td>\n",
              "      <td>2</td>\n",
              "    </tr>\n",
              "    <tr>\n",
              "      <th>4</th>\n",
              "      <td>5</td>\n",
              "      <td>;CyclopsWK</td>\n",
              "      <td>Thu Mar 14 20:59:27 +0000 2019</td>\n",
              "      <td>yet btc</td>\n",
              "      <td>1</td>\n",
              "    </tr>\n",
              "    <tr>\n",
              "      <th>5</th>\n",
              "      <td>6</td>\n",
              "      <td>;jobsinai1</td>\n",
              "      <td>Thu Mar 14 20:59:29 +0000 2019</td>\n",
              "      <td>senior lead java develop agil greenfield cv librari info</td>\n",
              "      <td>1</td>\n",
              "    </tr>\n",
              "    <tr>\n",
              "      <th>6</th>\n",
              "      <td>7</td>\n",
              "      <td>;CryptoPressNews</td>\n",
              "      <td>Thu Mar 14 20:59:29 +0000 2019</td>\n",
              "      <td>btc btc bitcoin current price three thousand nine hundr twenti one dollar thirti one cent h zero four one hundredth h zero thirti three one hundredth</td>\n",
              "      <td>1</td>\n",
              "    </tr>\n",
              "    <tr>\n",
              "      <th>7</th>\n",
              "      <td>8</td>\n",
              "      <td>;ruigomeseu</td>\n",
              "      <td>Thu Mar 14 20:59:33 +0000 2019</td>\n",
              "      <td>sell buy bitcoin</td>\n",
              "      <td>1</td>\n",
              "    </tr>\n",
              "    <tr>\n",
              "      <th>8</th>\n",
              "      <td>9</td>\n",
              "      <td>;Anwarkaja1Anwar</td>\n",
              "      <td>Thu Mar 14 20:59:34 +0000 2019</td>\n",
              "      <td>renew energi magazin post u energi blockchain</td>\n",
              "      <td>1</td>\n",
              "    </tr>\n",
              "    <tr>\n",
              "      <th>9</th>\n",
              "      <td>10</td>\n",
              "      <td>;cryptodeal2</td>\n",
              "      <td>Thu Mar 14 20:59:33 +0000 2019</td>\n",
              "      <td>digiid formula like retweet guy digiid secur</td>\n",
              "      <td>1</td>\n",
              "    </tr>\n",
              "    <tr>\n",
              "      <th>10</th>\n",
              "      <td>11</td>\n",
              "      <td>;jasonus_habilis</td>\n",
              "      <td>Thu Mar 14 20:59:36 +0000 2019</td>\n",
              "      <td>lntrustchain torch power bitcoinln node car batteri midst</td>\n",
              "      <td>1</td>\n",
              "    </tr>\n",
              "    <tr>\n",
              "      <th>11</th>\n",
              "      <td>12</td>\n",
              "      <td>;digital_mine_</td>\n",
              "      <td>Thu Mar 14 20:59:37 +0000 2019</td>\n",
              "      <td>dunno would cool bitcoin wallet major nano mcu differ version</td>\n",
              "      <td>2</td>\n",
              "    </tr>\n",
              "    <tr>\n",
              "      <th>12</th>\n",
              "      <td>13</td>\n",
              "      <td>;AltcoinBadger</td>\n",
              "      <td>Thu Mar 14 20:59:37 +0000 2019</td>\n",
              "      <td>skycoin announc public releas skywir mainnet cryptonew cryptolif cryptocurr</td>\n",
              "      <td>1</td>\n",
              "    </tr>\n",
              "    <tr>\n",
              "      <th>13</th>\n",
              "      <td>14</td>\n",
              "      <td>;07Berke33</td>\n",
              "      <td>Thu Mar 14 20:59:37 +0000 2019</td>\n",
              "      <td>evet yarin tspor lu olsun herk grafikleri yi bist bist</td>\n",
              "      <td>1</td>\n",
              "    </tr>\n",
              "    <tr>\n",
              "      <th>14</th>\n",
              "      <td>15</td>\n",
              "      <td>;BtcAndres</td>\n",
              "      <td>Thu Mar 14 20:59:38 +0000 2019</td>\n",
              "      <td>hoy en lightn network e de usar mucho problema que se mientra avanzamo</td>\n",
              "      <td>1</td>\n",
              "    </tr>\n",
              "    <tr>\n",
              "      <th>15</th>\n",
              "      <td>16</td>\n",
              "      <td>;coinairdropall</td>\n",
              "      <td>Thu Mar 14 20:59:39 +0000 2019</td>\n",
              "      <td>bitcoin satoshi crypto blockchain airdrop new airdrop nexxo nexxo airdrop worth four thousand two hundr five nexxo two thousand two hundr forti one nexxo</td>\n",
              "      <td>2</td>\n",
              "    </tr>\n",
              "    <tr>\n",
              "      <th>16</th>\n",
              "      <td>17</td>\n",
              "      <td>;Airdropnotecom</td>\n",
              "      <td>Thu Mar 14 20:59:39 +0000 2019</td>\n",
              "      <td>bitcoin satoshi crypto blockchain airdrop new airdrop gozo reward free one thousand one hundr fifti gozo token refer reward</td>\n",
              "      <td>2</td>\n",
              "    </tr>\n",
              "    <tr>\n",
              "      <th>17</th>\n",
              "      <td>18</td>\n",
              "      <td>;infoPitermail</td>\n",
              "      <td>Thu Mar 14 20:59:40 +0000 2019</td>\n",
              "      <td>bitcoin three thousand eight hundr eighti three dollar nineti six cent fourteen time</td>\n",
              "      <td>1</td>\n",
              "    </tr>\n",
              "    <tr>\n",
              "      <th>18</th>\n",
              "      <td>19</td>\n",
              "      <td>;fyxlqdqK7sqic5t</td>\n",
              "      <td>Thu Mar 14 20:59:41 +0000 2019</td>\n",
              "      <td>btc</td>\n",
              "      <td>1</td>\n",
              "    </tr>\n",
              "    <tr>\n",
              "      <th>19</th>\n",
              "      <td>20</td>\n",
              "      <td>;crudeOilNow</td>\n",
              "      <td>Thu Mar 14 20:59:43 +0000 2019</td>\n",
              "      <td>bitcoin three thousand eight hundr seventi six dollar zero cent fourteen mar time utc</td>\n",
              "      <td>1</td>\n",
              "    </tr>\n",
              "  </tbody>\n",
              "</table>\n",
              "</div>"
            ],
            "text/plain": [
              "    Sequence              user                       Timestamp  \\\n",
              "0   1         ;EmpireSell       Thu Mar 14 20:59:24 +0000 2019   \n",
              "1   2         ;BitWearz         Thu Mar 14 20:59:25 +0000 2019   \n",
              "2   3         ;BlockWatcher     Thu Mar 14 20:59:26 +0000 2019   \n",
              "3   4         ;Nanyna221        Thu Mar 14 20:59:26 +0000 2019   \n",
              "4   5         ;CyclopsWK        Thu Mar 14 20:59:27 +0000 2019   \n",
              "5   6         ;jobsinai1        Thu Mar 14 20:59:29 +0000 2019   \n",
              "6   7         ;CryptoPressNews  Thu Mar 14 20:59:29 +0000 2019   \n",
              "7   8         ;ruigomeseu       Thu Mar 14 20:59:33 +0000 2019   \n",
              "8   9         ;Anwarkaja1Anwar  Thu Mar 14 20:59:34 +0000 2019   \n",
              "9   10        ;cryptodeal2      Thu Mar 14 20:59:33 +0000 2019   \n",
              "10  11        ;jasonus_habilis  Thu Mar 14 20:59:36 +0000 2019   \n",
              "11  12        ;digital_mine_    Thu Mar 14 20:59:37 +0000 2019   \n",
              "12  13        ;AltcoinBadger    Thu Mar 14 20:59:37 +0000 2019   \n",
              "13  14        ;07Berke33        Thu Mar 14 20:59:37 +0000 2019   \n",
              "14  15        ;BtcAndres        Thu Mar 14 20:59:38 +0000 2019   \n",
              "15  16        ;coinairdropall   Thu Mar 14 20:59:39 +0000 2019   \n",
              "16  17        ;Airdropnotecom   Thu Mar 14 20:59:39 +0000 2019   \n",
              "17  18        ;infoPitermail    Thu Mar 14 20:59:40 +0000 2019   \n",
              "18  19        ;fyxlqdqK7sqic5t  Thu Mar 14 20:59:41 +0000 2019   \n",
              "19  20        ;crudeOilNow      Thu Mar 14 20:59:43 +0000 2019   \n",
              "\n",
              "                                                                                                                                                                                                                                                                                                              Text  \\\n",
              "0   sell full access og unstack ghoul bitcoin paypal fampf payment sell bc pc ban account                                                                                                                                                                                                                            \n",
              "1   bitchcoin fck she good call back everi time btc bitcoin cryptocurr                                                                                                                                                                                                                                               \n",
              "2   thu mar fourteen time two thousand nineteen time usd three thousand eight hundr eighti four thirti nine one hundredth wght zero nineteen one hundredth blk five hundr sixti seven thousand eighti size one hundr sixti one nine tenth kb tx four hundr seventi three pool two hundr forti zero mb zero bitcoin   \n",
              "3   thank support dap anoth masternod worth dap giveaway start testnet start plea                                                                                                                                                                                                                                    \n",
              "4   yet btc                                                                                                                                                                                                                                                                                                          \n",
              "5   senior lead java develop agil greenfield cv librari info                                                                                                                                                                                                                                                         \n",
              "6   btc btc bitcoin current price three thousand nine hundr twenti one dollar thirti one cent h zero four one hundredth h zero thirti three one hundredth                                                                                                                                                            \n",
              "7   sell buy bitcoin                                                                                                                                                                                                                                                                                                 \n",
              "8   renew energi magazin post u energi blockchain                                                                                                                                                                                                                                                                    \n",
              "9   digiid formula like retweet guy digiid secur                                                                                                                                                                                                                                                                     \n",
              "10  lntrustchain torch power bitcoinln node car batteri midst                                                                                                                                                                                                                                                        \n",
              "11  dunno would cool bitcoin wallet major nano mcu differ version                                                                                                                                                                                                                                                    \n",
              "12  skycoin announc public releas skywir mainnet cryptonew cryptolif cryptocurr                                                                                                                                                                                                                                      \n",
              "13  evet yarin tspor lu olsun herk grafikleri yi bist bist                                                                                                                                                                                                                                                           \n",
              "14  hoy en lightn network e de usar mucho problema que se mientra avanzamo                                                                                                                                                                                                                                           \n",
              "15  bitcoin satoshi crypto blockchain airdrop new airdrop nexxo nexxo airdrop worth four thousand two hundr five nexxo two thousand two hundr forti one nexxo                                                                                                                                                        \n",
              "16  bitcoin satoshi crypto blockchain airdrop new airdrop gozo reward free one thousand one hundr fifti gozo token refer reward                                                                                                                                                                                      \n",
              "17  bitcoin three thousand eight hundr eighti three dollar nineti six cent fourteen time                                                                                                                                                                                                                             \n",
              "18  btc                                                                                                                                                                                                                                                                                                              \n",
              "19  bitcoin three thousand eight hundr seventi six dollar zero cent fourteen mar time utc                                                                                                                                                                                                                            \n",
              "\n",
              "    label  \n",
              "0   2      \n",
              "1   2      \n",
              "2   1      \n",
              "3   2      \n",
              "4   1      \n",
              "5   1      \n",
              "6   1      \n",
              "7   1      \n",
              "8   1      \n",
              "9   1      \n",
              "10  1      \n",
              "11  2      \n",
              "12  1      \n",
              "13  1      \n",
              "14  1      \n",
              "15  2      \n",
              "16  2      \n",
              "17  1      \n",
              "18  1      \n",
              "19  1      "
            ]
          },
          "metadata": {
            "tags": []
          },
          "execution_count": 97
        }
      ]
    },
    {
      "metadata": {
        "id": "4vIkE-jv895s",
        "colab_type": "code",
        "outputId": "3f1f2b31-ad16-4e61-d79d-9e8016b59aca",
        "colab": {
          "base_uri": "https://localhost:8080/",
          "height": 359
        }
      },
      "cell_type": "code",
      "source": [
        "df.loc[df[\"label\"] == 0].head(10)"
      ],
      "execution_count": 0,
      "outputs": [
        {
          "output_type": "execute_result",
          "data": {
            "text/html": [
              "<div>\n",
              "<style scoped>\n",
              "    .dataframe tbody tr th:only-of-type {\n",
              "        vertical-align: middle;\n",
              "    }\n",
              "\n",
              "    .dataframe tbody tr th {\n",
              "        vertical-align: top;\n",
              "    }\n",
              "\n",
              "    .dataframe thead th {\n",
              "        text-align: right;\n",
              "    }\n",
              "</style>\n",
              "<table border=\"1\" class=\"dataframe\">\n",
              "  <thead>\n",
              "    <tr style=\"text-align: right;\">\n",
              "      <th></th>\n",
              "      <th>Sequence</th>\n",
              "      <th>user</th>\n",
              "      <th>Timestamp</th>\n",
              "      <th>Text</th>\n",
              "      <th>label</th>\n",
              "    </tr>\n",
              "  </thead>\n",
              "  <tbody>\n",
              "    <tr>\n",
              "      <th>23</th>\n",
              "      <td>24</td>\n",
              "      <td>;Rastafasta3</td>\n",
              "      <td>Thu Mar 14 20:59:47 +0000 2019</td>\n",
              "      <td>amp cheap hoe shill scam tokenpay fail pumpanddump fugazi btc</td>\n",
              "      <td>0</td>\n",
              "    </tr>\n",
              "    <tr>\n",
              "      <th>27</th>\n",
              "      <td>28</td>\n",
              "      <td>;CalebWright802</td>\n",
              "      <td>Thu Mar 14 20:59:49 +0000 2019</td>\n",
              "      <td>ibm launch crossbord payment portal base stellar coinbas pro add support xlm</td>\n",
              "      <td>0</td>\n",
              "    </tr>\n",
              "    <tr>\n",
              "      <th>52</th>\n",
              "      <td>53</td>\n",
              "      <td>;coinstats</td>\n",
              "      <td>Thu Mar 14 21:00:01 +0000 2019</td>\n",
              "      <td>bitcoin btc price ten dollar forti five cent chang oneh market cap sixti eight dollar nineti three cent rank one bitcoin btc</td>\n",
              "      <td>0</td>\n",
              "    </tr>\n",
              "    <tr>\n",
              "      <th>75</th>\n",
              "      <td>76</td>\n",
              "      <td>;VillamizarITPro</td>\n",
              "      <td>Thu Mar 14 21:00:02 +0000 2019</td>\n",
              "      <td>tweet electroneum price note minor gain phone creat posit buzz</td>\n",
              "      <td>0</td>\n",
              "    </tr>\n",
              "    <tr>\n",
              "      <th>133</th>\n",
              "      <td>134</td>\n",
              "      <td>;CryptoGirl_News</td>\n",
              "      <td>Thu Mar 14 21:00:07 +0000 2019</td>\n",
              "      <td>rememb one day bitcoin scorn worthless alreadi know go chanc</td>\n",
              "      <td>0</td>\n",
              "    </tr>\n",
              "    <tr>\n",
              "      <th>159</th>\n",
              "      <td>160</td>\n",
              "      <td>;cryptonext</td>\n",
              "      <td>Thu Mar 14 21:00:15 +0000 2019</td>\n",
              "      <td>long short nikkei use bitcoin go long short nki</td>\n",
              "      <td>0</td>\n",
              "    </tr>\n",
              "    <tr>\n",
              "      <th>272</th>\n",
              "      <td>273</td>\n",
              "      <td>;guicabeyo</td>\n",
              "      <td>Thu Mar 14 21:01:05 +0000 2019</td>\n",
              "      <td>keep stream btc</td>\n",
              "      <td>0</td>\n",
              "    </tr>\n",
              "    <tr>\n",
              "      <th>287</th>\n",
              "      <td>288</td>\n",
              "      <td>;Coinbullishish</td>\n",
              "      <td>Thu Mar 14 21:01:11 +0000 2019</td>\n",
              "      <td>peopl hold bitcoin ugli dude ugli dude dont find girlfriend wont get child mean</td>\n",
              "      <td>0</td>\n",
              "    </tr>\n",
              "    <tr>\n",
              "      <th>299</th>\n",
              "      <td>300</td>\n",
              "      <td>;cryptomulml</td>\n",
              "      <td>Thu Mar 14 21:01:21 +0000 2019</td>\n",
              "      <td>binanc bitcoin black bcb binanc tandatangani petisi via</td>\n",
              "      <td>0</td>\n",
              "    </tr>\n",
              "    <tr>\n",
              "      <th>396</th>\n",
              "      <td>397</td>\n",
              "      <td>;Spicyfr</td>\n",
              "      <td>Thu Mar 14 21:02:29 +0000 2019</td>\n",
              "      <td>le mond pa pour le bitcoin pourquoi pressecitron</td>\n",
              "      <td>0</td>\n",
              "    </tr>\n",
              "  </tbody>\n",
              "</table>\n",
              "</div>"
            ],
            "text/plain": [
              "     Sequence              user                       Timestamp  \\\n",
              "23   24        ;Rastafasta3      Thu Mar 14 20:59:47 +0000 2019   \n",
              "27   28        ;CalebWright802   Thu Mar 14 20:59:49 +0000 2019   \n",
              "52   53        ;coinstats        Thu Mar 14 21:00:01 +0000 2019   \n",
              "75   76        ;VillamizarITPro  Thu Mar 14 21:00:02 +0000 2019   \n",
              "133  134       ;CryptoGirl_News  Thu Mar 14 21:00:07 +0000 2019   \n",
              "159  160       ;cryptonext       Thu Mar 14 21:00:15 +0000 2019   \n",
              "272  273       ;guicabeyo        Thu Mar 14 21:01:05 +0000 2019   \n",
              "287  288       ;Coinbullishish   Thu Mar 14 21:01:11 +0000 2019   \n",
              "299  300       ;cryptomulml      Thu Mar 14 21:01:21 +0000 2019   \n",
              "396  397       ;Spicyfr          Thu Mar 14 21:02:29 +0000 2019   \n",
              "\n",
              "                                                                                                                             Text  \\\n",
              "23   amp cheap hoe shill scam tokenpay fail pumpanddump fugazi btc                                                                  \n",
              "27   ibm launch crossbord payment portal base stellar coinbas pro add support xlm                                                   \n",
              "52   bitcoin btc price ten dollar forti five cent chang oneh market cap sixti eight dollar nineti three cent rank one bitcoin btc   \n",
              "75   tweet electroneum price note minor gain phone creat posit buzz                                                                 \n",
              "133  rememb one day bitcoin scorn worthless alreadi know go chanc                                                                   \n",
              "159  long short nikkei use bitcoin go long short nki                                                                                \n",
              "272  keep stream btc                                                                                                                \n",
              "287  peopl hold bitcoin ugli dude ugli dude dont find girlfriend wont get child mean                                                \n",
              "299  binanc bitcoin black bcb binanc tandatangani petisi via                                                                        \n",
              "396  le mond pa pour le bitcoin pourquoi pressecitron                                                                               \n",
              "\n",
              "     label  \n",
              "23   0      \n",
              "27   0      \n",
              "52   0      \n",
              "75   0      \n",
              "133  0      \n",
              "159  0      \n",
              "272  0      \n",
              "287  0      \n",
              "299  0      \n",
              "396  0      "
            ]
          },
          "metadata": {
            "tags": []
          },
          "execution_count": 98
        }
      ]
    },
    {
      "metadata": {
        "id": "PNyF6jr69WFM",
        "colab_type": "code",
        "colab": {}
      },
      "cell_type": "code",
      "source": [
        ""
      ],
      "execution_count": 0,
      "outputs": []
    }
  ]
}